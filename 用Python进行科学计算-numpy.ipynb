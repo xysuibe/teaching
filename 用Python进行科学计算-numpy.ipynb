{
 "cells": [
  {
   "cell_type": "markdown",
   "metadata": {
    "deletable": true,
    "editable": true
   },
   "source": [
    "### NumPy is the fundamental package for scientific computing with Python. It contains among other things:\n",
    "\n",
    "- a powerful N-dimensional array object\n",
    "- sophisticated (broadcasting) functions\n",
    "- tools for integrating C/C++ and Fortran code\n",
    "- useful linear algebra, Fourier transform, and random number capabilities\n",
    "\n",
    "Besides its obvious scientific uses, NumPy can also be used as an efficient multi-dimensional container of generic data. Arbitrary data-types can be defined. This allows NumPy to seamlessly and speedily integrate with a wide variety of databases.\n"
   ]
  },
  {
   "cell_type": "code",
   "execution_count": 2,
   "metadata": {
    "collapsed": false,
    "deletable": true,
    "editable": true,
    "nbpresent": {
     "id": "fba9fecc-621a-4541-b725-28d0001afc75"
    }
   },
   "outputs": [],
   "source": [
    "import numpy as np\n",
    "import time\n",
    "import math"
   ]
  },
  {
   "cell_type": "markdown",
   "metadata": {
    "deletable": true,
    "editable": true,
    "nbpresent": {
     "id": "b9cbdfa6-b6f9-4bb3-bb42-08a0cf80c813"
    }
   },
   "source": [
    "### 1 [多维数组ndarray](https://docs.scipy.org/doc/numpy-dev/reference/arrays.ndarray.html)"
   ]
  },
  {
   "cell_type": "code",
   "execution_count": null,
   "metadata": {
    "collapsed": false,
    "deletable": true,
    "editable": true,
    "nbpresent": {
     "id": "46833460-5efb-428d-bc60-a84d427105f4"
    }
   },
   "outputs": [],
   "source": [
    "x = [(1,2,3),(4,5,6),(7,8,9)]\n",
    "a = np.array(x,dtype=np.float) #定义数据与对应的类型\n",
    "a"
   ]
  },
  {
   "cell_type": "code",
   "execution_count": null,
   "metadata": {
    "collapsed": false,
    "deletable": true,
    "editable": true,
    "nbpresent": {
     "id": "a7ac3682-737e-4c8f-a9eb-83f9c8a1d5d1"
    }
   },
   "outputs": [],
   "source": [
    "a.dtype #a的数据类型"
   ]
  },
  {
   "cell_type": "code",
   "execution_count": null,
   "metadata": {
    "collapsed": false,
    "deletable": true,
    "editable": true
   },
   "outputs": [],
   "source": [
    "a.ndim #返回数组的维数"
   ]
  },
  {
   "cell_type": "code",
   "execution_count": null,
   "metadata": {
    "collapsed": false,
    "deletable": true,
    "editable": true,
    "nbpresent": {
     "id": "92255438-e959-45c3-bfd7-0f5ba7bad15c"
    }
   },
   "outputs": [],
   "source": [
    "a.shape #a.shape返回a中各维对应的元素个数"
   ]
  },
  {
   "cell_type": "code",
   "execution_count": null,
   "metadata": {
    "collapsed": false,
    "deletable": true,
    "editable": true,
    "nbpresent": {
     "id": "e85aa24f-0b15-4d38-81ad-2ec4bba02f23"
    }
   },
   "outputs": [],
   "source": [
    "a.shape = (9,1) #变更各维元素个数\n",
    "a"
   ]
  },
  {
   "cell_type": "code",
   "execution_count": null,
   "metadata": {
    "collapsed": false,
    "deletable": true,
    "editable": true,
    "nbpresent": {
     "id": "18035ed3-1ad5-4493-ab88-7795b4cc8812"
    }
   },
   "outputs": [],
   "source": [
    "len(a),a.size #len()返回a第一维对应的元素个数，a.size返回a中的元素个数"
   ]
  },
  {
   "cell_type": "code",
   "execution_count": null,
   "metadata": {
    "collapsed": false,
    "deletable": true,
    "editable": true
   },
   "outputs": [],
   "source": [
    "a.tolist() #ndarray.tolist()返回一个ndarray对应的列表"
   ]
  },
  {
   "cell_type": "code",
   "execution_count": null,
   "metadata": {
    "collapsed": false,
    "deletable": true,
    "editable": true
   },
   "outputs": [],
   "source": [
    "a.shape = (3,3)\n",
    "a.flatten() #扁平化返回一个对应的1维数组，a本身不发生变化"
   ]
  },
  {
   "cell_type": "code",
   "execution_count": null,
   "metadata": {
    "collapsed": false,
    "deletable": true,
    "editable": true
   },
   "outputs": [],
   "source": [
    "a.flat[8] #将所有的元素展开至一维，在进行元素的读取"
   ]
  },
  {
   "cell_type": "markdown",
   "metadata": {
    "deletable": true,
    "editable": true
   },
   "source": [
    "#### 索引：\n",
    "- ndarray索引方法: [idx0,indx1,...]\n",
    "- 利用序列的索引方法: [idx0][index1]..."
   ]
  },
  {
   "cell_type": "code",
   "execution_count": null,
   "metadata": {
    "collapsed": false,
    "deletable": true,
    "editable": true
   },
   "outputs": [],
   "source": [
    "b = np.arange(16).reshape((2,2,4)) #定义一个3维数组\n",
    "b"
   ]
  },
  {
   "cell_type": "code",
   "execution_count": null,
   "metadata": {
    "collapsed": false,
    "deletable": true,
    "editable": true
   },
   "outputs": [],
   "source": [
    "b[0,0,0]==b[0][0][0]"
   ]
  },
  {
   "cell_type": "code",
   "execution_count": null,
   "metadata": {
    "collapsed": false,
    "deletable": true,
    "editable": true
   },
   "outputs": [],
   "source": [
    "b[0,0,0]"
   ]
  },
  {
   "cell_type": "markdown",
   "metadata": {
    "deletable": true,
    "editable": true
   },
   "source": [
    "#### 切片："
   ]
  },
  {
   "cell_type": "code",
   "execution_count": null,
   "metadata": {
    "collapsed": false,
    "deletable": true,
    "editable": true
   },
   "outputs": [],
   "source": [
    "b[:][0][0] #获取b的一个copy，然后取其中的索引为0的数组，最后再该数组索引为0的数组。"
   ]
  },
  {
   "cell_type": "code",
   "execution_count": null,
   "metadata": {
    "collapsed": false,
    "deletable": true,
    "editable": true
   },
   "outputs": [],
   "source": [
    "b[:,0,0] #针对第1维所有的数组，分别取索引为0的数组中的索引为0的元素"
   ]
  },
  {
   "cell_type": "code",
   "execution_count": null,
   "metadata": {
    "collapsed": false,
    "deletable": true,
    "editable": true
   },
   "outputs": [],
   "source": [
    "b[[0,1],[0,1],[0,1]] #取[0,0,0]和[1,1,1]两个元素"
   ]
  },
  {
   "cell_type": "code",
   "execution_count": null,
   "metadata": {
    "collapsed": false,
    "deletable": true,
    "editable": true
   },
   "outputs": [],
   "source": [
    "b[[0,1],[0,1],0] #取[0,0,0]和[1,1,0]两个元素"
   ]
  },
  {
   "cell_type": "markdown",
   "metadata": {
    "deletable": true,
    "editable": true
   },
   "source": [
    "也可以用布尔值作为索引"
   ]
  },
  {
   "cell_type": "code",
   "execution_count": null,
   "metadata": {
    "collapsed": false,
    "deletable": true,
    "editable": true
   },
   "outputs": [],
   "source": [
    "b>0"
   ]
  },
  {
   "cell_type": "code",
   "execution_count": null,
   "metadata": {
    "collapsed": false,
    "deletable": true,
    "editable": true
   },
   "outputs": [],
   "source": [
    "b[b>5] #返回1维数组"
   ]
  },
  {
   "cell_type": "code",
   "execution_count": null,
   "metadata": {
    "collapsed": false,
    "deletable": true,
    "editable": true
   },
   "outputs": [],
   "source": [
    "b[b>5].shape"
   ]
  },
  {
   "cell_type": "markdown",
   "metadata": {
    "deletable": true,
    "editable": true
   },
   "source": [
    "#### [常用的ndarray创建方法](https://docs.scipy.org/doc/numpy-dev/reference/routines.array-creation.html)"
   ]
  },
  {
   "cell_type": "markdown",
   "metadata": {
    "deletable": true,
    "editable": true,
    "nbpresent": {
     "id": "9657286e-0e81-4ce1-8b22-b58c880ac75e"
    }
   },
   "source": [
    "- np.arange(start,stop,step) 不包含stop"
   ]
  },
  {
   "cell_type": "code",
   "execution_count": null,
   "metadata": {
    "collapsed": false,
    "deletable": true,
    "editable": true,
    "nbpresent": {
     "id": "df8c39fa-c30f-4bde-9b8c-6c047e450bb0"
    }
   },
   "outputs": [],
   "source": [
    "np.arange(0.1,10,0.5) #np.arange()中的参数可以为浮点数"
   ]
  },
  {
   "cell_type": "code",
   "execution_count": null,
   "metadata": {
    "collapsed": false,
    "deletable": true,
    "editable": true
   },
   "outputs": [],
   "source": [
    "np.arange(0.1,-1,0.5)"
   ]
  },
  {
   "cell_type": "markdown",
   "metadata": {
    "deletable": true,
    "editable": true,
    "nbpresent": {
     "id": "8b425d30-526d-4569-9fd2-0daffe42d290"
    }
   },
   "source": [
    "- np.linspace(start,stop,number) 包含stop"
   ]
  },
  {
   "cell_type": "code",
   "execution_count": null,
   "metadata": {
    "collapsed": false,
    "deletable": true,
    "editable": true,
    "nbpresent": {
     "id": "b076b6d0-b667-4fc3-8418-0c45fc2aa0e5"
    }
   },
   "outputs": [],
   "source": [
    "np.linspace(0,9,10)"
   ]
  },
  {
   "cell_type": "markdown",
   "metadata": {
    "deletable": true,
    "editable": true,
    "nbpresent": {
     "id": "429b7605-eff5-4bfa-986b-d66814767dd6"
    }
   },
   "source": [
    "- np.logspace(start,stop,number)"
   ]
  },
  {
   "cell_type": "code",
   "execution_count": null,
   "metadata": {
    "collapsed": false,
    "deletable": true,
    "editable": true,
    "nbpresent": {
     "id": "3e647aea-da4d-4f78-b12d-34d1ecf0d69e"
    }
   },
   "outputs": [],
   "source": [
    "np.logspace(0,9,10)"
   ]
  },
  {
   "cell_type": "code",
   "execution_count": null,
   "metadata": {
    "collapsed": false,
    "deletable": true,
    "editable": true,
    "nbpresent": {
     "id": "5f773d17-4636-44df-961b-01431a47f46e"
    }
   },
   "outputs": [],
   "source": [
    "np.logspace(0,9,10) == 10**np.linspace(0,9,10)"
   ]
  },
  {
   "cell_type": "markdown",
   "metadata": {
    "deletable": true,
    "editable": true
   },
   "source": [
    "- np.zeros(n),np.zeros_like()"
   ]
  },
  {
   "cell_type": "code",
   "execution_count": null,
   "metadata": {
    "collapsed": false,
    "deletable": true,
    "editable": true
   },
   "outputs": [],
   "source": [
    "np.zeros(10)"
   ]
  },
  {
   "cell_type": "code",
   "execution_count": null,
   "metadata": {
    "collapsed": false,
    "deletable": true,
    "editable": true
   },
   "outputs": [],
   "source": [
    "np.zeros_like(a) #返回与a有相同结构的ndarray，里面的元素为0"
   ]
  },
  {
   "cell_type": "markdown",
   "metadata": {
    "deletable": true,
    "editable": true
   },
   "source": [
    "- np.ones(n),np.ones_like()"
   ]
  },
  {
   "cell_type": "code",
   "execution_count": null,
   "metadata": {
    "collapsed": false,
    "deletable": true,
    "editable": true
   },
   "outputs": [],
   "source": [
    "np.ones(10)"
   ]
  },
  {
   "cell_type": "code",
   "execution_count": null,
   "metadata": {
    "collapsed": false,
    "deletable": true,
    "editable": true
   },
   "outputs": [],
   "source": [
    "np.ones_like(a) #返回与a有相同结构的ndarray，里面的元素为1"
   ]
  },
  {
   "cell_type": "markdown",
   "metadata": {
    "deletable": true,
    "editable": true,
    "nbpresent": {
     "id": "60706132-af61-41d2-b3c5-aba8b2ff9ba9"
    }
   },
   "source": [
    "#### 自定义结构数组  \n",
    ">在C语言中我们可以通过struct关键字定义结构类型，结构中的字段占据连续的内存空间，每个结构体占用的内存大小都相同，因此可以很容易地定义结构数组。和C语言一样，在NumPy中也很容易对这 种结构数组进行操作。只要NumPy中的结构定义和C语言中的定义相同，NumPy就可以很方便地读取C语言的结构数组的二进制数据，转换为NumPy的结构数组。"
   ]
  },
  {
   "cell_type": "code",
   "execution_count": null,
   "metadata": {
    "collapsed": true,
    "deletable": true,
    "editable": true,
    "nbpresent": {
     "id": "fb125f43-5295-4a68-987e-30a287276863"
    }
   },
   "outputs": [],
   "source": [
    "p_type = np.dtype({'names':['name','age','weight'],\n",
    "                   'formats':['S32','i','f']})"
   ]
  },
  {
   "cell_type": "code",
   "execution_count": null,
   "metadata": {
    "collapsed": false,
    "deletable": true,
    "editable": true,
    "nbpresent": {
     "id": "2222248b-8b99-45bc-84f8-1f368ba0fe14"
    }
   },
   "outputs": [],
   "source": [
    "x = np.array([('xiao fang',18,60.0),('lu lu',20,66.5)],dtype=p_type)\n",
    "x"
   ]
  },
  {
   "cell_type": "markdown",
   "metadata": {
    "deletable": true,
    "editable": true,
    "nbpresent": {
     "id": "eec3def5-5ccf-4a9f-a047-90548c09de57"
    }
   },
   "source": [
    "x[0]是一个结构元素，它和数组a共享内存数据，因此可以通过修改它的字段，改变原始数组中的对应字段"
   ]
  },
  {
   "cell_type": "code",
   "execution_count": null,
   "metadata": {
    "collapsed": false,
    "deletable": true,
    "editable": true,
    "nbpresent": {
     "id": "de98fc94-ed9a-4089-ba75-08f31292138c"
    }
   },
   "outputs": [],
   "source": [
    "x[1].dtype"
   ]
  },
  {
   "cell_type": "code",
   "execution_count": null,
   "metadata": {
    "collapsed": false,
    "deletable": true,
    "editable": true,
    "nbpresent": {
     "id": "9766fc4f-42f7-4cb2-8cff-2b385dee40fe"
    }
   },
   "outputs": [],
   "source": [
    "x.dtype"
   ]
  },
  {
   "cell_type": "code",
   "execution_count": null,
   "metadata": {
    "collapsed": false,
    "deletable": true,
    "editable": true,
    "nbpresent": {
     "id": "d846a40a-d1ac-41ad-b55e-56a961c93859"
    }
   },
   "outputs": [],
   "source": [
    "x[0]['name'] = 'Li fang' #修改其中的元素\n",
    "x"
   ]
  },
  {
   "cell_type": "markdown",
   "metadata": {
    "deletable": true,
    "editable": true,
    "nbpresent": {
     "id": "11ecbc3c-4c96-4e53-b783-f44d7e830ec0"
    }
   },
   "source": [
    "## 2 [universal function](https://docs.scipy.org/doc/numpy-dev/reference/ufuncs.html)\n",
    "\n",
    "numpy内置的许多ufunc函数都是由c或者Fotran编程实现的，因此它们的计算速度非常快。\n",
    "- 包含常用的数学函数，针对ndarray进行操作。\n",
    "- 包含statistics模块，可完成基本的统计推断。\n",
    "- Financial functions\n",
    "..."
   ]
  },
  {
   "cell_type": "code",
   "execution_count": null,
   "metadata": {
    "collapsed": false,
    "deletable": true,
    "editable": true
   },
   "outputs": [],
   "source": [
    "d = np.arange(1,21).reshape((2,2,5))\n",
    "d"
   ]
  },
  {
   "cell_type": "code",
   "execution_count": null,
   "metadata": {
    "collapsed": false,
    "deletable": true,
    "editable": true
   },
   "outputs": [],
   "source": [
    "np.exp(d) #等价于np.e**d"
   ]
  },
  {
   "cell_type": "code",
   "execution_count": null,
   "metadata": {
    "collapsed": false,
    "deletable": true,
    "editable": true
   },
   "outputs": [],
   "source": [
    "np.sqrt(d)"
   ]
  },
  {
   "cell_type": "code",
   "execution_count": null,
   "metadata": {
    "collapsed": false,
    "deletable": true,
    "editable": true
   },
   "outputs": [],
   "source": [
    "np.sin(d)"
   ]
  },
  {
   "cell_type": "markdown",
   "metadata": {
    "deletable": true,
    "editable": true,
    "nbpresent": {
     "id": "210d8f4f-6e08-4a07-a0ca-6be81410e370"
    }
   },
   "source": [
    "#### 比较math标准库中的函数和numpy库中的ufunc函数的计算效率"
   ]
  },
  {
   "cell_type": "code",
   "execution_count": null,
   "metadata": {
    "collapsed": false,
    "deletable": true,
    "editable": true,
    "nbpresent": {
     "id": "04b386d1-963f-4b48-9807-fb7ec8b8c3b9"
    }
   },
   "outputs": [],
   "source": [
    "x = [i*0.001 for i in xrange(1000000)]\n",
    "start = time.clock()\n",
    "for i,t in enumerate(x):\n",
    "    x[i] = math.sqrt(t)\n",
    "    \n",
    "print \"math.sin耗时:%.4fs\"%(time.clock() - start)"
   ]
  },
  {
   "cell_type": "code",
   "execution_count": null,
   "metadata": {
    "collapsed": false,
    "deletable": true,
    "editable": true,
    "nbpresent": {
     "id": "10c6216b-4f2e-4b26-829d-f2bbac957738"
    }
   },
   "outputs": [],
   "source": [
    "x = [i * 0.001 for i in xrange(1000000)]\n",
    "x = np.array(x)\n",
    "start = time.clock()\n",
    "np.sqrt(x,x)\n",
    "print \"numpy.sin耗时:%.4fs\"%(time.clock() - start)"
   ]
  },
  {
   "cell_type": "markdown",
   "metadata": {
    "deletable": true,
    "editable": true,
    "nbpresent": {
     "id": "c012daa8-0f6f-461f-a426-69d3322b392a"
    }
   },
   "source": [
    "#### [frompyfunc()定义ufunc](https://docs.scipy.org/doc/numpy-dev/reference/generated/numpy.frompyfunc.html#numpy.frompyfunc)"
   ]
  },
  {
   "cell_type": "code",
   "execution_count": null,
   "metadata": {
    "collapsed": false,
    "deletable": true,
    "editable": true,
    "nbpresent": {
     "id": "d43a4ce5-aeaa-4ff5-97f6-188457418fa2"
    }
   },
   "outputs": [],
   "source": [
    "def f(x,y):\n",
    "    if x < y:\n",
    "        return y-x\n",
    "    else:  \n",
    "        return x-y"
   ]
  },
  {
   "cell_type": "code",
   "execution_count": null,
   "metadata": {
    "collapsed": true,
    "deletable": true,
    "editable": true,
    "nbpresent": {
     "id": "731182a0-8357-4e71-921c-7e1f9f22677b"
    }
   },
   "outputs": [],
   "source": [
    "ufunc_f = np.frompyfunc(f,2,1) #将f转化为univeral function，设置2个input，1个output"
   ]
  },
  {
   "cell_type": "code",
   "execution_count": null,
   "metadata": {
    "collapsed": true,
    "deletable": true,
    "editable": true,
    "nbpresent": {
     "id": "8f96ccc4-f9ba-4f92-80a4-c6038e947c87"
    }
   },
   "outputs": [],
   "source": [
    "x = np.arange(-1,1,0.00001)\n",
    "y = np.arange(1,-1,-0.00001)"
   ]
  },
  {
   "cell_type": "code",
   "execution_count": null,
   "metadata": {
    "collapsed": false,
    "deletable": true,
    "editable": true,
    "nbpresent": {
     "id": "bd45e1d9-7c97-4d5a-a276-744f9408a8aa"
    }
   },
   "outputs": [],
   "source": [
    "t1 = time.clock()\n",
    "for i,j in zip(x,y):\n",
    "    f(i,j)\n",
    "print u'f耗时:%.4fs'%(time.clock()-t1)"
   ]
  },
  {
   "cell_type": "code",
   "execution_count": null,
   "metadata": {
    "collapsed": false,
    "deletable": true,
    "editable": true,
    "nbpresent": {
     "id": "a3ddd1de-50e3-4726-868a-be3d712eb875"
    }
   },
   "outputs": [],
   "source": [
    "t1 = time.clock()\n",
    "ufunc_f(x,y)\n",
    "print u'ufunc_f耗时:%.4fs'%(time.clock()-t1)"
   ]
  },
  {
   "cell_type": "markdown",
   "metadata": {
    "deletable": true,
    "editable": true
   },
   "source": [
    "##### [vectorize()向量化函数](https://docs.scipy.org/doc/numpy-dev/reference/generated/numpy.vectorize.html#numpy.vectorize)"
   ]
  },
  {
   "cell_type": "code",
   "execution_count": null,
   "metadata": {
    "collapsed": true,
    "deletable": true,
    "editable": true
   },
   "outputs": [],
   "source": [
    "v_f = np.vectorize(f)"
   ]
  },
  {
   "cell_type": "code",
   "execution_count": null,
   "metadata": {
    "collapsed": false,
    "deletable": true,
    "editable": true
   },
   "outputs": [],
   "source": [
    "t1 = time.clock()\n",
    "v_f(x,y)\n",
    "print u'v_f耗时:%.4fs'%(time.clock()-t1)"
   ]
  },
  {
   "cell_type": "markdown",
   "metadata": {
    "deletable": true,
    "editable": true
   },
   "source": [
    "#### [Logic functions](https://docs.scipy.org/doc/numpy-dev/reference/routines.logic.html)"
   ]
  },
  {
   "cell_type": "code",
   "execution_count": null,
   "metadata": {
    "collapsed": false,
    "deletable": true,
    "editable": true
   },
   "outputs": [],
   "source": [
    "a = np.zeros(10)\n",
    "a[5:9] = 1,np.nan,np.inf,-np.inf"
   ]
  },
  {
   "cell_type": "code",
   "execution_count": null,
   "metadata": {
    "collapsed": false,
    "deletable": true,
    "editable": true
   },
   "outputs": [],
   "source": [
    "np.all(a) #判断a中的所有元素是否等价于false"
   ]
  },
  {
   "cell_type": "code",
   "execution_count": null,
   "metadata": {
    "collapsed": false,
    "deletable": true,
    "editable": true
   },
   "outputs": [],
   "source": [
    "np.any(a) #判断a中是否存在至少1个等价于true的元素"
   ]
  },
  {
   "cell_type": "code",
   "execution_count": null,
   "metadata": {
    "collapsed": false,
    "deletable": true,
    "editable": true
   },
   "outputs": [],
   "source": [
    "np.isnan(a) #判断a中的元素是否为空值"
   ]
  },
  {
   "cell_type": "code",
   "execution_count": null,
   "metadata": {
    "collapsed": false,
    "deletable": true,
    "editable": true
   },
   "outputs": [],
   "source": [
    "np.isfinite(a) #是否有限"
   ]
  },
  {
   "cell_type": "code",
   "execution_count": null,
   "metadata": {
    "collapsed": false,
    "deletable": true,
    "editable": true
   },
   "outputs": [],
   "source": [
    "np.isinf(a) #是否无限"
   ]
  },
  {
   "cell_type": "code",
   "execution_count": null,
   "metadata": {
    "collapsed": false,
    "deletable": true,
    "editable": true
   },
   "outputs": [],
   "source": [
    "np.isneginf(a) #是否正无限"
   ]
  },
  {
   "cell_type": "code",
   "execution_count": null,
   "metadata": {
    "collapsed": false,
    "deletable": true,
    "editable": true
   },
   "outputs": [],
   "source": [
    "np.isposinf(a) #是否负无限"
   ]
  },
  {
   "cell_type": "markdown",
   "metadata": {
    "deletable": true,
    "editable": true
   },
   "source": [
    "#### [数学运算](https://docs.scipy.org/doc/numpy-dev/reference/routines.math.html)"
   ]
  },
  {
   "cell_type": "code",
   "execution_count": null,
   "metadata": {
    "collapsed": true,
    "deletable": true,
    "editable": true
   },
   "outputs": [],
   "source": [
    "a = np.arange(10).reshape((2,5))\n",
    "b = np.arange(-9,1).reshape((2,5))"
   ]
  },
  {
   "cell_type": "markdown",
   "metadata": {
    "deletable": true,
    "editable": true
   },
   "source": [
    "- 支持python内建运算符"
   ]
  },
  {
   "cell_type": "code",
   "execution_count": null,
   "metadata": {
    "collapsed": false,
    "deletable": true,
    "editable": true
   },
   "outputs": [],
   "source": [
    "a + b"
   ]
  },
  {
   "cell_type": "code",
   "execution_count": null,
   "metadata": {
    "collapsed": false,
    "deletable": true,
    "editable": true
   },
   "outputs": [],
   "source": [
    "abs(b)"
   ]
  },
  {
   "cell_type": "code",
   "execution_count": null,
   "metadata": {
    "collapsed": false,
    "deletable": true,
    "editable": true
   },
   "outputs": [],
   "source": [
    "a - b"
   ]
  },
  {
   "cell_type": "code",
   "execution_count": null,
   "metadata": {
    "collapsed": false,
    "deletable": true,
    "editable": true
   },
   "outputs": [],
   "source": [
    "a*b"
   ]
  },
  {
   "cell_type": "code",
   "execution_count": null,
   "metadata": {
    "collapsed": true,
    "deletable": true,
    "editable": true
   },
   "outputs": [],
   "source": [
    "a**2"
   ]
  },
  {
   "cell_type": "markdown",
   "metadata": {
    "deletable": true,
    "editable": true
   },
   "source": [
    "- numpy运算符"
   ]
  },
  {
   "cell_type": "code",
   "execution_count": null,
   "metadata": {
    "collapsed": false,
    "deletable": true,
    "editable": true
   },
   "outputs": [],
   "source": [
    "np.add(a,b)"
   ]
  },
  {
   "cell_type": "code",
   "execution_count": null,
   "metadata": {
    "collapsed": false,
    "deletable": true,
    "editable": true
   },
   "outputs": [],
   "source": [
    "np.subtract(a,b)"
   ]
  },
  {
   "cell_type": "code",
   "execution_count": null,
   "metadata": {
    "collapsed": false,
    "deletable": true,
    "editable": true
   },
   "outputs": [],
   "source": [
    "np.multiply(a,b)"
   ]
  },
  {
   "cell_type": "code",
   "execution_count": null,
   "metadata": {
    "collapsed": false,
    "deletable": true,
    "editable": true
   },
   "outputs": [],
   "source": [
    "np.negative(b) == a"
   ]
  },
  {
   "cell_type": "code",
   "execution_count": null,
   "metadata": {
    "collapsed": false,
    "deletable": true,
    "editable": true
   },
   "outputs": [],
   "source": [
    "np.maximum(a,b) #分别取a,b对应位置的最大值"
   ]
  },
  {
   "cell_type": "code",
   "execution_count": null,
   "metadata": {
    "collapsed": false,
    "deletable": true,
    "editable": true
   },
   "outputs": [],
   "source": [
    "np.minimum(a,b) #分别取a,b对应位置的最小值"
   ]
  },
  {
   "cell_type": "code",
   "execution_count": null,
   "metadata": {
    "collapsed": false,
    "deletable": true,
    "editable": true
   },
   "outputs": [],
   "source": [
    "np.diff(a,n=2,axis=1) #差分 默认沿第一维进行n阶差分"
   ]
  },
  {
   "cell_type": "code",
   "execution_count": null,
   "metadata": {
    "collapsed": false,
    "deletable": true,
    "editable": true
   },
   "outputs": [],
   "source": [
    "x = np.array([1, 2, 4, 7, 11, 16], dtype=np.float)\n",
    "np.gradient(x) #求梯度"
   ]
  },
  {
   "cell_type": "markdown",
   "metadata": {
    "deletable": true,
    "editable": true
   },
   "source": [
    "- nan"
   ]
  },
  {
   "cell_type": "code",
   "execution_count": null,
   "metadata": {
    "collapsed": true,
    "deletable": true,
    "editable": true
   },
   "outputs": [],
   "source": [
    "a = np.array([1,2,3,np.nan,5])"
   ]
  },
  {
   "cell_type": "code",
   "execution_count": null,
   "metadata": {
    "collapsed": false,
    "deletable": true,
    "editable": true
   },
   "outputs": [],
   "source": [
    "np.nansum(a)"
   ]
  },
  {
   "cell_type": "code",
   "execution_count": null,
   "metadata": {
    "collapsed": false,
    "deletable": true,
    "editable": true
   },
   "outputs": [],
   "source": [
    "np.nanprod(a)"
   ]
  },
  {
   "cell_type": "markdown",
   "metadata": {
    "deletable": true,
    "editable": true
   },
   "source": [
    "#### [排序](https://docs.scipy.org/doc/numpy-dev/reference/routines.sort.html)"
   ]
  },
  {
   "cell_type": "code",
   "execution_count": null,
   "metadata": {
    "collapsed": false,
    "deletable": true,
    "editable": true
   },
   "outputs": [],
   "source": [
    "a = np.random.randint(20,size=(4,5))\n",
    "a"
   ]
  },
  {
   "cell_type": "code",
   "execution_count": null,
   "metadata": {
    "collapsed": false,
    "deletable": true,
    "editable": true
   },
   "outputs": [],
   "source": [
    "np.sort(a) #默认沿第1维排序"
   ]
  },
  {
   "cell_type": "code",
   "execution_count": null,
   "metadata": {
    "collapsed": false,
    "deletable": true,
    "editable": true
   },
   "outputs": [],
   "source": [
    "np.sort(a,axis=0) #默认沿第0维排序"
   ]
  },
  {
   "cell_type": "code",
   "execution_count": null,
   "metadata": {
    "collapsed": false,
    "deletable": true,
    "editable": true
   },
   "outputs": [],
   "source": [
    "np.sort(a,axis=None)  #flatten"
   ]
  },
  {
   "cell_type": "code",
   "execution_count": null,
   "metadata": {
    "collapsed": false,
    "deletable": true,
    "editable": true
   },
   "outputs": [],
   "source": [
    "a.sort(axis=0)\n",
    "a"
   ]
  },
  {
   "cell_type": "markdown",
   "metadata": {
    "collapsed": true,
    "deletable": true,
    "editable": true
   },
   "source": [
    "### 3. [随机数生成](https://docs.scipy.org/doc/numpy-dev/reference/routines.random.html)"
   ]
  },
  {
   "cell_type": "code",
   "execution_count": null,
   "metadata": {
    "collapsed": false,
    "deletable": true,
    "editable": true
   },
   "outputs": [],
   "source": [
    "np.random.rand(3,2) #(0,1)均匀分布"
   ]
  },
  {
   "cell_type": "code",
   "execution_count": null,
   "metadata": {
    "collapsed": false,
    "deletable": true,
    "editable": true
   },
   "outputs": [],
   "source": [
    "np.random.randn(3,2) #mean=0,std=1的正态分布"
   ]
  },
  {
   "cell_type": "code",
   "execution_count": null,
   "metadata": {
    "collapsed": false,
    "deletable": true,
    "editable": true
   },
   "outputs": [],
   "source": [
    "np.random.randint(low=10,high=100,size=(10,2)) #下限为low（包含），上限为hight（不包含）的均匀分布"
   ]
  },
  {
   "cell_type": "code",
   "execution_count": null,
   "metadata": {
    "collapsed": false,
    "deletable": true,
    "editable": true
   },
   "outputs": [],
   "source": [
    "a_list = ['pooh', 'rabbit', 'piglet', 'Christopher']\n",
    "np.random.choice(a_list, size = (2,5), p=[0.5, 0.1, 0.1, 0.3]) #根据概率p选择a_list中的元素，"
   ]
  },
  {
   "cell_type": "code",
   "execution_count": null,
   "metadata": {
    "collapsed": false,
    "deletable": true,
    "editable": true
   },
   "outputs": [],
   "source": [
    "np.random.shuffle(a_list) #随机打乱元素次序"
   ]
  },
  {
   "cell_type": "code",
   "execution_count": null,
   "metadata": {
    "collapsed": false,
    "deletable": true,
    "editable": true
   },
   "outputs": [],
   "source": [
    "a = np.random.randint(20,size=(4,5))\n",
    "np.random.shuffle(a) #沿第1维随机打乱，a为变化后的状态\n",
    "a"
   ]
  },
  {
   "cell_type": "code",
   "execution_count": null,
   "metadata": {
    "collapsed": false,
    "deletable": true,
    "editable": true
   },
   "outputs": [],
   "source": [
    "np.random.permutation(a) #沿第1维随机打乱,a保持不变\n",
    "a"
   ]
  },
  {
   "cell_type": "code",
   "execution_count": null,
   "metadata": {
    "collapsed": false,
    "deletable": true,
    "editable": true
   },
   "outputs": [],
   "source": [
    "np.random.seed(55) #设置初始化随机状态\n",
    "np.random.randint(10)"
   ]
  },
  {
   "cell_type": "markdown",
   "metadata": {},
   "source": [
    "### 4. [统计](https://docs.scipy.org/doc/numpy-1.12.0/reference/routines.statistics.html)"
   ]
  },
  {
   "cell_type": "code",
   "execution_count": 22,
   "metadata": {
    "collapsed": false
   },
   "outputs": [],
   "source": [
    "a = np.random.randint(low=1,high=100,size=(4,5))"
   ]
  },
  {
   "cell_type": "code",
   "execution_count": 26,
   "metadata": {
    "collapsed": false
   },
   "outputs": [
    {
     "data": {
      "text/plain": [
       "array([[99, 61, 39, 33, 64],\n",
       "       [52, 40, 22, 76, 93],\n",
       "       [11, 45, 60, 49, 68],\n",
       "       [13, 31, 13, 67, 67]])"
      ]
     },
     "execution_count": 26,
     "metadata": {},
     "output_type": "execute_result"
    }
   ],
   "source": [
    "a"
   ]
  },
  {
   "cell_type": "code",
   "execution_count": 23,
   "metadata": {
    "collapsed": false
   },
   "outputs": [
    {
     "data": {
      "text/plain": [
       "array([99, 61, 60, 76, 93])"
      ]
     },
     "execution_count": 23,
     "metadata": {},
     "output_type": "execute_result"
    }
   ],
   "source": [
    "np.max(a,axis=0) #axis为最大最小值对应的维度 np.nanmax(a)为去除空值后的最大最小值"
   ]
  },
  {
   "cell_type": "code",
   "execution_count": 25,
   "metadata": {
    "collapsed": false,
    "deletable": true,
    "editable": true
   },
   "outputs": [
    {
     "data": {
      "text/plain": [
       "array([88, 30, 47, 43, 29])"
      ]
     },
     "execution_count": 25,
     "metadata": {},
     "output_type": "execute_result"
    }
   ],
   "source": [
    "np.ptp(a,axis=0) #Range of values (maximum - minimum) along an axis"
   ]
  },
  {
   "cell_type": "code",
   "execution_count": 35,
   "metadata": {
    "collapsed": false
   },
   "outputs": [
    {
     "data": {
      "text/plain": [
       "array([ 32.5,  42.5,  30.5,  58. ,  67.5])"
      ]
     },
     "execution_count": 35,
     "metadata": {},
     "output_type": "execute_result"
    }
   ],
   "source": [
    "np.median(a,axis=0)"
   ]
  },
  {
   "cell_type": "code",
   "execution_count": 36,
   "metadata": {
    "collapsed": false
   },
   "outputs": [
    {
     "data": {
      "text/plain": [
       "array([ 43.75,  44.25,  33.5 ,  56.25,  73.  ])"
      ]
     },
     "execution_count": 36,
     "metadata": {},
     "output_type": "execute_result"
    }
   ],
   "source": [
    "np.mean(a,axis=0)"
   ]
  },
  {
   "cell_type": "code",
   "execution_count": 39,
   "metadata": {
    "collapsed": false
   },
   "outputs": [
    {
     "data": {
      "text/plain": [
       "array([ 28.6,  41.4,  36.2,  58.2,  72.3])"
      ]
     },
     "execution_count": 39,
     "metadata": {},
     "output_type": "execute_result"
    }
   ],
   "source": [
    "np.average(a,axis=0,weights=[0.1,0.2,0.4,0.3]) #加权平均"
   ]
  },
  {
   "cell_type": "code",
   "execution_count": 41,
   "metadata": {
    "collapsed": false
   },
   "outputs": [
    {
     "data": {
      "text/plain": [
       "array([ 35.84253758,  10.89437928,  17.92344833,  16.57369904,  11.64044673])"
      ]
     },
     "execution_count": 41,
     "metadata": {},
     "output_type": "execute_result"
    }
   ],
   "source": [
    "np.std(a,axis=0) #Compute the standard deviation along the specified axis."
   ]
  },
  {
   "cell_type": "code",
   "execution_count": 42,
   "metadata": {
    "collapsed": false
   },
   "outputs": [
    {
     "data": {
      "text/plain": [
       "array([ 1284.6875,   118.6875,   321.25  ,   274.6875,   135.5   ])"
      ]
     },
     "execution_count": 42,
     "metadata": {},
     "output_type": "execute_result"
    }
   ],
   "source": [
    "np.var(a,axis=0) #Compute the variance along the specified axis."
   ]
  },
  {
   "cell_type": "code",
   "execution_count": 43,
   "metadata": {
    "collapsed": false
   },
   "outputs": [
    {
     "data": {
      "text/plain": [
       "array([[ 1.        ,  0.0518404 , -0.72559466, -0.39556977],\n",
       "       [ 0.0518404 ,  1.        ,  0.22334035,  0.87954569],\n",
       "       [-0.72559466,  0.22334035,  1.        ,  0.52611577],\n",
       "       [-0.39556977,  0.87954569,  0.52611577,  1.        ]])"
      ]
     },
     "execution_count": 43,
     "metadata": {},
     "output_type": "execute_result"
    }
   ],
   "source": [
    "np.corrcoef(a) #计算相关系数"
   ]
  },
  {
   "cell_type": "code",
   "execution_count": 45,
   "metadata": {
    "collapsed": false
   },
   "outputs": [
    {
     "data": {
      "text/plain": [
       "array([[ 676.2 ,   38.1 , -412.65, -280.8 ],\n",
       "       [  38.1 ,  798.8 ,  138.05,  678.6 ],\n",
       "       [-412.65,  138.05,  478.3 ,  314.1 ],\n",
       "       [-280.8 ,  678.6 ,  314.1 ,  745.2 ]])"
      ]
     },
     "execution_count": 45,
     "metadata": {},
     "output_type": "execute_result"
    }
   ],
   "source": [
    "np.cov(a) #计算协方差矩阵 一行为一个变量，一列为一个观测"
   ]
  },
  {
   "cell_type": "code",
   "execution_count": 47,
   "metadata": {
    "collapsed": false
   },
   "outputs": [
    {
     "data": {
      "text/plain": [
       "(array([99, 61, 39, 33, 64]), array(676.2))"
      ]
     },
     "execution_count": 47,
     "metadata": {},
     "output_type": "execute_result"
    }
   ],
   "source": [
    "a[0],np.cov(a[0])"
   ]
  },
  {
   "cell_type": "code",
   "execution_count": 57,
   "metadata": {
    "collapsed": false
   },
   "outputs": [
    {
     "data": {
      "text/plain": [
       "(array([4, 5, 4, 5, 2]), array([ 11. ,  28.6,  46.2,  63.8,  81.4,  99. ]))"
      ]
     },
     "execution_count": 57,
     "metadata": {},
     "output_type": "execute_result"
    }
   ],
   "source": [
    "np.histogram(a,bins=5,density=False) #density=True概率密度, normed=True概率密度函数"
   ]
  },
  {
   "cell_type": "code",
   "execution_count": 68,
   "metadata": {
    "collapsed": true
   },
   "outputs": [],
   "source": [
    "x = np.arange(4)\n",
    "y = np.arange(5)"
   ]
  },
  {
   "cell_type": "code",
   "execution_count": 66,
   "metadata": {
    "collapsed": false
   },
   "outputs": [
    {
     "data": {
      "text/plain": [
       "14"
      ]
     },
     "execution_count": 66,
     "metadata": {},
     "output_type": "execute_result"
    }
   ],
   "source": [
    "np.dot(x,y) #内积"
   ]
  },
  {
   "cell_type": "code",
   "execution_count": 69,
   "metadata": {
    "collapsed": false
   },
   "outputs": [
    {
     "data": {
      "text/plain": [
       "array([[ 0,  0,  0,  0,  0],\n",
       "       [ 0,  1,  2,  3,  4],\n",
       "       [ 0,  2,  4,  6,  8],\n",
       "       [ 0,  3,  6,  9, 12]])"
      ]
     },
     "execution_count": 69,
     "metadata": {},
     "output_type": "execute_result"
    }
   ],
   "source": [
    "np.outer(x,y) #外积"
   ]
  },
  {
   "cell_type": "code",
   "execution_count": 72,
   "metadata": {
    "collapsed": false
   },
   "outputs": [
    {
     "name": "stdout",
     "output_type": "stream",
     "text": [
      "0x0=0 0x1=0 0x2=0 0x3=0 0x4=0\n",
      "1x0=0 1x1=1 1x2=2 1x3=3 1x4=4\n",
      "2x0=0 2x1=2 2x2=4 2x3=6 2x4=8\n",
      "3x0=0 3x1=3 3x2=6 3x3=9 3x4=12\n"
     ]
    }
   ],
   "source": [
    "for i in x:\n",
    "    for j in y:\n",
    "        print '{0}x{1}={2}'.format(i,j,i*j),\n",
    "    print "
   ]
  },
  {
   "cell_type": "markdown",
   "metadata": {},
   "source": [
    "### 5. [输入输出](https://docs.scipy.org/doc/numpy-1.12.0/reference/routines.io.html)"
   ]
  },
  {
   "cell_type": "code",
   "execution_count": 83,
   "metadata": {
    "collapsed": true
   },
   "outputs": [],
   "source": [
    "a = np.arange(100)\n",
    "b = np.sin(a)"
   ]
  },
  {
   "cell_type": "markdown",
   "metadata": {},
   "source": [
    "- np.save()保存单个npy文件"
   ]
  },
  {
   "cell_type": "code",
   "execution_count": 84,
   "metadata": {
    "collapsed": false
   },
   "outputs": [
    {
     "data": {
      "text/plain": [
       "array([ 0,  1,  2,  3,  4,  5,  6,  7,  8,  9, 10, 11, 12, 13, 14, 15, 16,\n",
       "       17, 18, 19, 20, 21, 22, 23, 24, 25, 26, 27, 28, 29, 30, 31, 32, 33,\n",
       "       34, 35, 36, 37, 38, 39, 40, 41, 42, 43, 44, 45, 46, 47, 48, 49, 50,\n",
       "       51, 52, 53, 54, 55, 56, 57, 58, 59, 60, 61, 62, 63, 64, 65, 66, 67,\n",
       "       68, 69, 70, 71, 72, 73, 74, 75, 76, 77, 78, 79, 80, 81, 82, 83, 84,\n",
       "       85, 86, 87, 88, 89, 90, 91, 92, 93, 94, 95, 96, 97, 98, 99])"
      ]
     },
     "execution_count": 84,
     "metadata": {},
     "output_type": "execute_result"
    }
   ],
   "source": [
    "np.save('1',a)\n",
    "np.load('1.npy')"
   ]
  },
  {
   "cell_type": "markdown",
   "metadata": {},
   "source": [
    "- np.savez()保存多个npy文件"
   ]
  },
  {
   "cell_type": "code",
   "execution_count": 86,
   "metadata": {
    "collapsed": false
   },
   "outputs": [],
   "source": [
    "np.savez('2',a=a,b=b) #如果不加关键参数，则以arr_0,arr_1对应ndarray\n",
    "x = np.load('2.npz')"
   ]
  },
  {
   "cell_type": "code",
   "execution_count": 92,
   "metadata": {
    "collapsed": false
   },
   "outputs": [
    {
     "ename": "ValueError",
     "evalue": "string size must be a multiple of element size",
     "output_type": "error",
     "traceback": [
      "\u001b[0;31m---------------------------------------------------------------------------\u001b[0m",
      "\u001b[0;31mValueError\u001b[0m                                Traceback (most recent call last)",
      "\u001b[0;32m<ipython-input-92-e5db2b2d2b69>\u001b[0m in \u001b[0;36m<module>\u001b[0;34m()\u001b[0m\n\u001b[0;32m----> 1\u001b[0;31m \u001b[0mnp\u001b[0m\u001b[0;34m.\u001b[0m\u001b[0mfromstring\u001b[0m\u001b[0;34m(\u001b[0m\u001b[0;34m'123'\u001b[0m\u001b[0;34m)\u001b[0m\u001b[0;34m\u001b[0m\u001b[0m\n\u001b[0m",
      "\u001b[0;31mValueError\u001b[0m: string size must be a multiple of element size"
     ]
    }
   ],
   "source": [
    "np.fromstring('123')"
   ]
  },
  {
   "cell_type": "code",
   "execution_count": 93,
   "metadata": {
    "collapsed": true
   },
   "outputs": [],
   "source": [
    "np.savetxt('1',a)"
   ]
  },
  {
   "cell_type": "code",
   "execution_count": 94,
   "metadata": {
    "collapsed": false
   },
   "outputs": [
    {
     "ename": "IOError",
     "evalue": "[Errno 2] No such file or directory: '1.txt'",
     "output_type": "error",
     "traceback": [
      "\u001b[0;31m---------------------------------------------------------------------------\u001b[0m",
      "\u001b[0;31mIOError\u001b[0m                                   Traceback (most recent call last)",
      "\u001b[0;32m<ipython-input-94-ffac340e15d8>\u001b[0m in \u001b[0;36m<module>\u001b[0;34m()\u001b[0m\n\u001b[0;32m----> 1\u001b[0;31m \u001b[0mnp\u001b[0m\u001b[0;34m.\u001b[0m\u001b[0mloadtxt\u001b[0m\u001b[0;34m(\u001b[0m\u001b[0;34m'1.txt'\u001b[0m\u001b[0;34m)\u001b[0m\u001b[0;34m\u001b[0m\u001b[0m\n\u001b[0m",
      "\u001b[0;32m//anaconda/lib/python2.7/site-packages/numpy/lib/npyio.pyc\u001b[0m in \u001b[0;36mloadtxt\u001b[0;34m(fname, dtype, comments, delimiter, converters, skiprows, usecols, unpack, ndmin)\u001b[0m\n\u001b[1;32m    801\u001b[0m                 \u001b[0mfh\u001b[0m \u001b[0;34m=\u001b[0m \u001b[0miter\u001b[0m\u001b[0;34m(\u001b[0m\u001b[0mbz2\u001b[0m\u001b[0;34m.\u001b[0m\u001b[0mBZ2File\u001b[0m\u001b[0;34m(\u001b[0m\u001b[0mfname\u001b[0m\u001b[0;34m)\u001b[0m\u001b[0;34m)\u001b[0m\u001b[0;34m\u001b[0m\u001b[0m\n\u001b[1;32m    802\u001b[0m             \u001b[0;32melif\u001b[0m \u001b[0msys\u001b[0m\u001b[0;34m.\u001b[0m\u001b[0mversion_info\u001b[0m\u001b[0;34m[\u001b[0m\u001b[0;36m0\u001b[0m\u001b[0;34m]\u001b[0m \u001b[0;34m==\u001b[0m \u001b[0;36m2\u001b[0m\u001b[0;34m:\u001b[0m\u001b[0;34m\u001b[0m\u001b[0m\n\u001b[0;32m--> 803\u001b[0;31m                 \u001b[0mfh\u001b[0m \u001b[0;34m=\u001b[0m \u001b[0miter\u001b[0m\u001b[0;34m(\u001b[0m\u001b[0mopen\u001b[0m\u001b[0;34m(\u001b[0m\u001b[0mfname\u001b[0m\u001b[0;34m,\u001b[0m \u001b[0;34m'U'\u001b[0m\u001b[0;34m)\u001b[0m\u001b[0;34m)\u001b[0m\u001b[0;34m\u001b[0m\u001b[0m\n\u001b[0m\u001b[1;32m    804\u001b[0m             \u001b[0;32melse\u001b[0m\u001b[0;34m:\u001b[0m\u001b[0;34m\u001b[0m\u001b[0m\n\u001b[1;32m    805\u001b[0m                 \u001b[0mfh\u001b[0m \u001b[0;34m=\u001b[0m \u001b[0miter\u001b[0m\u001b[0;34m(\u001b[0m\u001b[0mopen\u001b[0m\u001b[0;34m(\u001b[0m\u001b[0mfname\u001b[0m\u001b[0;34m)\u001b[0m\u001b[0;34m)\u001b[0m\u001b[0;34m\u001b[0m\u001b[0m\n",
      "\u001b[0;31mIOError\u001b[0m: [Errno 2] No such file or directory: '1.txt'"
     ]
    }
   ],
   "source": [
    "np.loadtxt('1.txt')"
   ]
  },
  {
   "cell_type": "code",
   "execution_count": 96,
   "metadata": {
    "collapsed": false
   },
   "outputs": [
    {
     "name": "stdout",
     "output_type": "stream",
     "text": [
      "/Users/xiaoyu/IPython notebook/教学\n"
     ]
    }
   ],
   "source": [
    "import os\n",
    "print os.getcwd()"
   ]
  },
  {
   "cell_type": "code",
   "execution_count": null,
   "metadata": {
    "collapsed": true
   },
   "outputs": [],
   "source": []
  }
 ],
 "metadata": {
  "anaconda-cloud": {},
  "kernelspec": {
   "display_name": "Python [conda root]",
   "language": "python",
   "name": "conda-root-py"
  },
  "language_info": {
   "codemirror_mode": {
    "name": "ipython",
    "version": 2
   },
   "file_extension": ".py",
   "mimetype": "text/x-python",
   "name": "python",
   "nbconvert_exporter": "python",
   "pygments_lexer": "ipython2",
   "version": "2.7.13"
  },
  "nbpresent": {
   "slides": {
    "10b9b233-92f7-4f3a-b22e-844d183fb3c6": {
     "id": "10b9b233-92f7-4f3a-b22e-844d183fb3c6",
     "prev": "845546b3-b324-4866-a7ea-78a3c0f3de2f",
     "regions": {
      "12095496-1518-41d2-9c0f-1713bc5ed960": {
       "attrs": {
        "height": 0.8,
        "width": 0.8,
        "x": 0.1,
        "y": 0.1
       },
       "content": {
        "cell": "eec3def5-5ccf-4a9f-a047-90548c09de57",
        "part": "whole"
       },
       "id": "12095496-1518-41d2-9c0f-1713bc5ed960"
      }
     }
    },
    "11b1d8b3-19ce-4f14-9dd2-86c9331950b1": {
     "id": "11b1d8b3-19ce-4f14-9dd2-86c9331950b1",
     "prev": "efa06682-95b6-49a2-a6c0-c57d740d8e06",
     "regions": {
      "346e4ec3-838f-48bb-9128-efc3e0972fe1": {
       "attrs": {
        "height": 0.8,
        "width": 0.8,
        "x": 0.1,
        "y": 0.1
       },
       "content": {
        "cell": "46833460-5efb-428d-bc60-a84d427105f4",
        "part": "whole"
       },
       "id": "346e4ec3-838f-48bb-9128-efc3e0972fe1"
      }
     }
    },
    "12c358a7-e722-497e-9d27-2a13b17e2dfc": {
     "id": "12c358a7-e722-497e-9d27-2a13b17e2dfc",
     "prev": "826f6189-22c8-4f6b-92f4-8837fd1e5f39",
     "regions": {
      "65ccc499-0819-44e1-9e04-2c54787a3e8c": {
       "attrs": {
        "height": 0.8,
        "width": 0.8,
        "x": 0.1,
        "y": 0.1
       },
       "content": {
        "cell": "429b7605-eff5-4bfa-986b-d66814767dd6",
        "part": "whole"
       },
       "id": "65ccc499-0819-44e1-9e04-2c54787a3e8c"
      }
     }
    },
    "1792438c-d113-4d80-8bfc-d3d25fae34a5": {
     "id": "1792438c-d113-4d80-8bfc-d3d25fae34a5",
     "prev": "e6b126c4-be72-41e8-b93b-82c4a3861eb3",
     "regions": {
      "b4cf25c1-6e7e-4bcd-a538-4848047b3099": {
       "attrs": {
        "height": 0.8,
        "width": 0.8,
        "x": 0.1,
        "y": 0.1
       },
       "content": {
        "cell": "fea847a6-339c-4f63-bc46-2487a5ad7f35",
        "part": "whole"
       },
       "id": "b4cf25c1-6e7e-4bcd-a538-4848047b3099"
      }
     }
    },
    "4dc8559c-d26a-44bb-9220-95a650e6e9b6": {
     "id": "4dc8559c-d26a-44bb-9220-95a650e6e9b6",
     "prev": "f1bdb37f-f94d-4bea-90f0-ad8d7b421797",
     "regions": {
      "8b866b07-0263-4f77-aeb3-fb51bf05aa6c": {
       "attrs": {
        "height": 0.8,
        "width": 0.8,
        "x": 0.1,
        "y": 0.1
       },
       "content": {
        "cell": "9657286e-0e81-4ce1-8b22-b58c880ac75e",
        "part": "whole"
       },
       "id": "8b866b07-0263-4f77-aeb3-fb51bf05aa6c"
      }
     }
    },
    "513994d5-1b0b-4e09-ae5a-154db8169011": {
     "id": "513994d5-1b0b-4e09-ae5a-154db8169011",
     "prev": "ed538faf-93dc-411e-956c-ce2f9213f3a8",
     "regions": {
      "f50c00b3-14de-41f5-bc40-460a62b84746": {
       "attrs": {
        "height": 0.8,
        "width": 0.8,
        "x": 0.1,
        "y": 0.1
       },
       "content": {
        "cell": "731182a0-8357-4e71-921c-7e1f9f22677b",
        "part": "whole"
       },
       "id": "f50c00b3-14de-41f5-bc40-460a62b84746"
      }
     }
    },
    "53234c70-9612-4393-9f8a-f9b0d43e164e": {
     "id": "53234c70-9612-4393-9f8a-f9b0d43e164e",
     "prev": "591bde4d-16f7-4ca8-9ea9-399821c4535d",
     "regions": {
      "44adc3a3-95b7-4743-85b3-8336c7ea2dd6": {
       "attrs": {
        "height": 0.8,
        "width": 0.8,
        "x": 0.1,
        "y": 0.1
       },
       "content": {
        "cell": "11ecbc3c-4c96-4e53-b783-f44d7e830ec0",
        "part": "whole"
       },
       "id": "44adc3a3-95b7-4743-85b3-8336c7ea2dd6"
      }
     }
    },
    "58feefba-36db-4334-a18d-809dd9ea3c59": {
     "id": "58feefba-36db-4334-a18d-809dd9ea3c59",
     "prev": "4dc8559c-d26a-44bb-9220-95a650e6e9b6",
     "regions": {
      "45a43f56-bd30-4163-ab44-fd09fbcc6b13": {
       "attrs": {
        "height": 0.8,
        "width": 0.8,
        "x": 0.1,
        "y": 0.1
       },
       "content": {
        "cell": "df8c39fa-c30f-4bde-9b8c-6c047e450bb0",
        "part": "whole"
       },
       "id": "45a43f56-bd30-4163-ab44-fd09fbcc6b13"
      }
     }
    },
    "591bde4d-16f7-4ca8-9ea9-399821c4535d": {
     "id": "591bde4d-16f7-4ca8-9ea9-399821c4535d",
     "prev": "a6503cbe-3ad0-4076-9828-8e098b332d61",
     "regions": {
      "653d23c9-4709-4e60-8493-4978a6c4727c": {
       "attrs": {
        "height": 0.8,
        "width": 0.8,
        "x": 0.1,
        "y": 0.1
       },
       "content": {
        "cell": "d846a40a-d1ac-41ad-b55e-56a961c93859",
        "part": "whole"
       },
       "id": "653d23c9-4709-4e60-8493-4978a6c4727c"
      }
     }
    },
    "686f637a-3ee7-4248-adc3-031e09020cce": {
     "id": "686f637a-3ee7-4248-adc3-031e09020cce",
     "prev": "eec38978-93e2-4708-97af-d15bce7a20f2",
     "regions": {
      "a55f7d24-257e-4815-a26a-74d07861b015": {
       "attrs": {
        "height": 0.8,
        "width": 0.8,
        "x": 0.1,
        "y": 0.1
       },
       "content": {
        "cell": "c012daa8-0f6f-461f-a426-69d3322b392a",
        "part": "whole"
       },
       "id": "a55f7d24-257e-4815-a26a-74d07861b015"
      }
     }
    },
    "6c38e131-ce77-4f1a-8eec-5ac5768d935f": {
     "id": "6c38e131-ce77-4f1a-8eec-5ac5768d935f",
     "prev": null,
     "regions": {
      "a100671b-bf0b-467b-8fdf-946bd3a593c0": {
       "attrs": {
        "height": 0.8,
        "width": 0.8,
        "x": 0.1,
        "y": 0.1
       },
       "content": {
        "cell": "44b22298-28b2-4774-a290-c6f23e79c3ba",
        "part": "whole"
       },
       "id": "a100671b-bf0b-467b-8fdf-946bd3a593c0"
      }
     }
    },
    "726acd7b-8cba-4ccd-a495-0370597d9c95": {
     "id": "726acd7b-8cba-4ccd-a495-0370597d9c95",
     "prev": "c09d75eb-2e5c-43ae-8666-bf5f01777e96",
     "regions": {
      "86fa7b5d-ebf4-4a70-9f62-1e5134eafb50": {
       "attrs": {
        "height": 0.8,
        "width": 0.8,
        "x": 0.1,
        "y": 0.1
       },
       "content": {
        "cell": "5312499a-12d7-4649-8505-93ad90b801ea",
        "part": "whole"
       },
       "id": "86fa7b5d-ebf4-4a70-9f62-1e5134eafb50"
      }
     }
    },
    "826f6189-22c8-4f6b-92f4-8837fd1e5f39": {
     "id": "826f6189-22c8-4f6b-92f4-8837fd1e5f39",
     "prev": "fe270581-559b-491f-b1d0-be801c047e6b",
     "regions": {
      "f7fadc2d-c9b6-42e6-bddd-a71da7d28754": {
       "attrs": {
        "height": 0.8,
        "width": 0.8,
        "x": 0.1,
        "y": 0.1
       },
       "content": {
        "cell": "b076b6d0-b667-4fc3-8418-0c45fc2aa0e5",
        "part": "whole"
       },
       "id": "f7fadc2d-c9b6-42e6-bddd-a71da7d28754"
      }
     }
    },
    "84434314-7c40-41f8-ba0c-f7f9427ada17": {
     "id": "84434314-7c40-41f8-ba0c-f7f9427ada17",
     "prev": "bd33635e-e50c-41d2-8528-5c389a411a88",
     "regions": {
      "28e37202-55c4-4f00-a5e6-2743f215316f": {
       "attrs": {
        "height": 0.8,
        "width": 0.8,
        "x": 0.1,
        "y": 0.1
       },
       "content": {
        "cell": "e85aa24f-0b15-4d38-81ad-2ec4bba02f23",
        "part": "whole"
       },
       "id": "28e37202-55c4-4f00-a5e6-2743f215316f"
      }
     }
    },
    "845546b3-b324-4866-a7ea-78a3c0f3de2f": {
     "id": "845546b3-b324-4866-a7ea-78a3c0f3de2f",
     "prev": "eab58c71-28b0-4668-b727-3dcec9b38de8",
     "regions": {
      "7c8b33d3-043f-4c3a-8205-53e935230b74": {
       "attrs": {
        "height": 0.8,
        "width": 0.8,
        "x": 0.1,
        "y": 0.1
       },
       "content": {
        "cell": "2222248b-8b99-45bc-84f8-1f368ba0fe14",
        "part": "whole"
       },
       "id": "7c8b33d3-043f-4c3a-8205-53e935230b74"
      }
     }
    },
    "8a61cad1-cdc9-4c06-91a9-b49e11704f78": {
     "id": "8a61cad1-cdc9-4c06-91a9-b49e11704f78",
     "prev": "8bbce565-0a09-4f67-98be-04acdac51c37",
     "regions": {
      "d3527cdc-9b5c-4081-960a-a5c1ac7e1ca1": {
       "attrs": {
        "height": 0.8,
        "width": 0.8,
        "x": 0.1,
        "y": 0.1
       },
       "content": {
        "cell": "a7ac3682-737e-4c8f-a9eb-83f9c8a1d5d1",
        "part": "whole"
       },
       "id": "d3527cdc-9b5c-4081-960a-a5c1ac7e1ca1"
      }
     }
    },
    "8bbce565-0a09-4f67-98be-04acdac51c37": {
     "id": "8bbce565-0a09-4f67-98be-04acdac51c37",
     "prev": "11b1d8b3-19ce-4f14-9dd2-86c9331950b1",
     "regions": {
      "688d0fa4-5a56-4a5c-bb9d-ece02c74944c": {
       "attrs": {
        "height": 0.8,
        "width": 0.8,
        "x": 0.1,
        "y": 0.1
       },
       "content": {
        "cell": "ddc39d16-d028-4906-81de-665a80912714",
        "part": "whole"
       },
       "id": "688d0fa4-5a56-4a5c-bb9d-ece02c74944c"
      }
     }
    },
    "8e89080a-b178-48e8-a5e3-900bd130e7cf": {
     "id": "8e89080a-b178-48e8-a5e3-900bd130e7cf",
     "prev": "10b9b233-92f7-4f3a-b22e-844d183fb3c6",
     "regions": {
      "0a3018f9-e26f-4eed-bfdb-973aee6b029f": {
       "attrs": {
        "height": 0.8,
        "width": 0.8,
        "x": 0.1,
        "y": 0.1
       },
       "content": {
        "cell": "de98fc94-ed9a-4089-ba75-08f31292138c",
        "part": "whole"
       },
       "id": "0a3018f9-e26f-4eed-bfdb-973aee6b029f"
      }
     }
    },
    "97a2a47a-486c-43e6-a382-9f063117c364": {
     "id": "97a2a47a-486c-43e6-a382-9f063117c364",
     "prev": "d8d26230-a904-4e88-9f3d-f2ae94c525da",
     "regions": {
      "6def3ebe-b388-4719-9914-37fcaf0258f3": {
       "attrs": {
        "height": 0.8,
        "width": 0.8,
        "x": 0.1,
        "y": 0.1
       },
       "content": {
        "cell": "bd45e1d9-7c97-4d5a-a276-744f9408a8aa",
        "part": "whole"
       },
       "id": "6def3ebe-b388-4719-9914-37fcaf0258f3"
      }
     }
    },
    "98255ec5-3cb3-4a71-a084-8600d6e34176": {
     "id": "98255ec5-3cb3-4a71-a084-8600d6e34176",
     "prev": "c51029d2-198d-4dda-b6ae-4cdabcf90777",
     "regions": {
      "35d72a7b-c9b6-4edc-8720-a8c7eaf960f5": {
       "attrs": {
        "height": 0.8,
        "width": 0.8,
        "x": 0.1,
        "y": 0.1
       },
       "content": {
        "cell": "7badc207-333c-4ab4-9050-4429e244f69c",
        "part": "whole"
       },
       "id": "35d72a7b-c9b6-4edc-8720-a8c7eaf960f5"
      }
     }
    },
    "a6503cbe-3ad0-4076-9828-8e098b332d61": {
     "id": "a6503cbe-3ad0-4076-9828-8e098b332d61",
     "prev": "8e89080a-b178-48e8-a5e3-900bd130e7cf",
     "regions": {
      "1d4cdc0d-9937-4697-9c57-9c2471e0ba60": {
       "attrs": {
        "height": 0.8,
        "width": 0.8,
        "x": 0.1,
        "y": 0.1
       },
       "content": {
        "cell": "9766fc4f-42f7-4cb2-8cff-2b385dee40fe",
        "part": "whole"
       },
       "id": "1d4cdc0d-9937-4697-9c57-9c2471e0ba60"
      }
     }
    },
    "b5b5affd-0101-4658-8d05-611e2ba43227": {
     "id": "b5b5affd-0101-4658-8d05-611e2ba43227",
     "prev": "f7249619-f013-48fb-a541-6fdbe2a0f98f",
     "regions": {
      "33911cee-c9a1-4388-8218-1b14f563de00": {
       "attrs": {
        "height": 0.8,
        "width": 0.8,
        "x": 0.1,
        "y": 0.1
       },
       "content": {
        "cell": "5f773d17-4636-44df-961b-01431a47f46e",
        "part": "whole"
       },
       "id": "33911cee-c9a1-4388-8218-1b14f563de00"
      }
     }
    },
    "bd33635e-e50c-41d2-8528-5c389a411a88": {
     "id": "bd33635e-e50c-41d2-8528-5c389a411a88",
     "prev": "8a61cad1-cdc9-4c06-91a9-b49e11704f78",
     "regions": {
      "d44a5aa6-eed0-44e4-ac66-64b8a293eb2d": {
       "attrs": {
        "height": 0.8,
        "width": 0.8,
        "x": 0.1,
        "y": 0.1
       },
       "content": {
        "cell": "92255438-e959-45c3-bfd7-0f5ba7bad15c",
        "part": "whole"
       },
       "id": "d44a5aa6-eed0-44e4-ac66-64b8a293eb2d"
      }
     }
    },
    "be7a451e-12d8-4b25-a410-f3226d0771db": {
     "id": "be7a451e-12d8-4b25-a410-f3226d0771db",
     "prev": "6c38e131-ce77-4f1a-8eec-5ac5768d935f",
     "regions": {
      "045cee7d-1897-4d9c-930d-aa86531ba3ea": {
       "attrs": {
        "height": 0.8,
        "width": 0.8,
        "x": 0.1,
        "y": 0.1
       },
       "content": {
        "cell": "fba9fecc-621a-4541-b725-28d0001afc75",
        "part": "whole"
       },
       "id": "045cee7d-1897-4d9c-930d-aa86531ba3ea"
      }
     }
    },
    "be7c2ab2-6056-40d4-be5b-4937b5545de0": {
     "id": "be7c2ab2-6056-40d4-be5b-4937b5545de0",
     "prev": "c3acad8f-3d38-4c3f-a105-b1b77cbb42b2",
     "regions": {
      "5ab096b7-2940-4799-84e6-c2d9a579b1e2": {
       "attrs": {
        "height": 0.8,
        "width": 0.8,
        "x": 0.1,
        "y": 0.1
       },
       "content": {
        "cell": "04b386d1-963f-4b48-9807-fb7ec8b8c3b9",
        "part": "whole"
       },
       "id": "5ab096b7-2940-4799-84e6-c2d9a579b1e2"
      }
     }
    },
    "c09d75eb-2e5c-43ae-8666-bf5f01777e96": {
     "id": "c09d75eb-2e5c-43ae-8666-bf5f01777e96",
     "prev": "1792438c-d113-4d80-8bfc-d3d25fae34a5",
     "regions": {
      "fd7dcb49-664c-441e-a9df-b1c81d299582": {
       "attrs": {
        "height": 0.8,
        "width": 0.8,
        "x": 0.1,
        "y": 0.1
       },
       "content": {
        "cell": "2b0bc708-0a9a-4f3c-a688-b8f54fc56b20",
        "part": "whole"
       },
       "id": "fd7dcb49-664c-441e-a9df-b1c81d299582"
      }
     }
    },
    "c3acad8f-3d38-4c3f-a105-b1b77cbb42b2": {
     "id": "c3acad8f-3d38-4c3f-a105-b1b77cbb42b2",
     "prev": "53234c70-9612-4393-9f8a-f9b0d43e164e",
     "regions": {
      "c4b7ba85-c7f3-4c33-b311-03f36814675b": {
       "attrs": {
        "height": 0.8,
        "width": 0.8,
        "x": 0.1,
        "y": 0.1
       },
       "content": {
        "cell": "210d8f4f-6e08-4a07-a0ca-6be81410e370",
        "part": "whole"
       },
       "id": "c4b7ba85-c7f3-4c33-b311-03f36814675b"
      }
     }
    },
    "c51029d2-198d-4dda-b6ae-4cdabcf90777": {
     "id": "c51029d2-198d-4dda-b6ae-4cdabcf90777",
     "prev": "97a2a47a-486c-43e6-a382-9f063117c364",
     "regions": {
      "f7c0b8f3-e86e-4792-9918-80d9089048ec": {
       "attrs": {
        "height": 0.8,
        "width": 0.8,
        "x": 0.1,
        "y": 0.1
       },
       "content": {
        "cell": "a3ddd1de-50e3-4726-868a-be3d712eb875",
        "part": "whole"
       },
       "id": "f7c0b8f3-e86e-4792-9918-80d9089048ec"
      }
     }
    },
    "d07ed659-fee2-4d90-a0a2-5185cd081a68": {
     "id": "d07ed659-fee2-4d90-a0a2-5185cd081a68",
     "prev": "58feefba-36db-4334-a18d-809dd9ea3c59",
     "regions": {
      "59f5b5ce-91c3-4f1f-a84e-65fd89c85f2a": {
       "attrs": {
        "height": 0.8,
        "width": 0.8,
        "x": 0.1,
        "y": 0.1
       },
       "content": {
        "cell": "d7880ec4-da42-402d-a691-cbe7ec1aa90f",
        "part": "whole"
       },
       "id": "59f5b5ce-91c3-4f1f-a84e-65fd89c85f2a"
      }
     }
    },
    "d12a44ec-89f7-43c4-8b79-619808363ed4": {
     "id": "d12a44ec-89f7-43c4-8b79-619808363ed4",
     "prev": "be7a451e-12d8-4b25-a410-f3226d0771db",
     "regions": {
      "3ce4b730-3de8-486b-b9a2-532d860905d1": {
       "attrs": {
        "height": 0.8,
        "width": 0.8,
        "x": 0.1,
        "y": 0.1
       },
       "content": {
        "cell": "92e1744d-8acd-4037-8564-d6236b38861f",
        "part": "whole"
       },
       "id": "3ce4b730-3de8-486b-b9a2-532d860905d1"
      }
     }
    },
    "d8d26230-a904-4e88-9f3d-f2ae94c525da": {
     "id": "d8d26230-a904-4e88-9f3d-f2ae94c525da",
     "prev": "513994d5-1b0b-4e09-ae5a-154db8169011",
     "regions": {
      "52a02973-6da1-478d-88ba-de9ace8fd038": {
       "attrs": {
        "height": 0.8,
        "width": 0.8,
        "x": 0.1,
        "y": 0.1
       },
       "content": {
        "cell": "8f96ccc4-f9ba-4f92-80a4-c6038e947c87",
        "part": "whole"
       },
       "id": "52a02973-6da1-478d-88ba-de9ace8fd038"
      }
     }
    },
    "d966b677-7d98-44f9-a218-8594f0553f4e": {
     "id": "d966b677-7d98-44f9-a218-8594f0553f4e",
     "prev": "b5b5affd-0101-4658-8d05-611e2ba43227",
     "regions": {
      "a90554bc-8f36-4f97-811b-563c49d4c1b1": {
       "attrs": {
        "height": 0.8,
        "width": 0.8,
        "x": 0.1,
        "y": 0.1
       },
       "content": {
        "cell": "60706132-af61-41d2-b3c5-aba8b2ff9ba9",
        "part": "whole"
       },
       "id": "a90554bc-8f36-4f97-811b-563c49d4c1b1"
      }
     }
    },
    "e1075cde-fb14-472c-973a-a65ff3f46ecb": {
     "id": "e1075cde-fb14-472c-973a-a65ff3f46ecb",
     "prev": "e8bf9d0b-cfa3-4c8a-8f20-7b3681dbb970",
     "regions": {
      "998b07ca-c585-4956-ac8f-2ebab06bc1e2": {
       "attrs": {
        "height": 0.8,
        "width": 0.8,
        "x": 0.1,
        "y": 0.1
       },
       "content": {
        "cell": "29d60923-7751-41c4-a34b-668dd9cf4e0d",
        "part": "whole"
       },
       "id": "998b07ca-c585-4956-ac8f-2ebab06bc1e2"
      }
     }
    },
    "e6b126c4-be72-41e8-b93b-82c4a3861eb3": {
     "id": "e6b126c4-be72-41e8-b93b-82c4a3861eb3",
     "prev": "d12a44ec-89f7-43c4-8b79-619808363ed4",
     "regions": {
      "de14f912-0a1c-4bd4-9a29-111b2a063d8d": {
       "attrs": {
        "height": 0.8,
        "width": 0.8,
        "x": 0.1,
        "y": 0.1
       },
       "content": {
        "cell": "c63fbca2-c23d-41f1-9e99-ea2ebc8a4391",
        "part": "whole"
       },
       "id": "de14f912-0a1c-4bd4-9a29-111b2a063d8d"
      }
     }
    },
    "e8bf9d0b-cfa3-4c8a-8f20-7b3681dbb970": {
     "id": "e8bf9d0b-cfa3-4c8a-8f20-7b3681dbb970",
     "prev": "726acd7b-8cba-4ccd-a495-0370597d9c95",
     "regions": {
      "f3d62e68-dee2-4108-9a12-b69c3e19e2f1": {
       "attrs": {
        "height": 0.8,
        "width": 0.8,
        "x": 0.1,
        "y": 0.1
       },
       "content": {
        "cell": "23b75ff9-7075-48fa-84cf-5323e010d0e6",
        "part": "whole"
       },
       "id": "f3d62e68-dee2-4108-9a12-b69c3e19e2f1"
      }
     }
    },
    "eab58c71-28b0-4668-b727-3dcec9b38de8": {
     "id": "eab58c71-28b0-4668-b727-3dcec9b38de8",
     "prev": "d966b677-7d98-44f9-a218-8594f0553f4e",
     "regions": {
      "e56d2ae9-cc2b-4aec-82b5-4ab3a49f0c3b": {
       "attrs": {
        "height": 0.8,
        "width": 0.8,
        "x": 0.1,
        "y": 0.1
       },
       "content": {
        "cell": "fb125f43-5295-4a68-987e-30a287276863",
        "part": "whole"
       },
       "id": "e56d2ae9-cc2b-4aec-82b5-4ab3a49f0c3b"
      }
     }
    },
    "ed538faf-93dc-411e-956c-ce2f9213f3a8": {
     "id": "ed538faf-93dc-411e-956c-ce2f9213f3a8",
     "prev": "686f637a-3ee7-4248-adc3-031e09020cce",
     "regions": {
      "642f6513-4e1a-446f-b3b8-d1d1d00275a3": {
       "attrs": {
        "height": 0.8,
        "width": 0.8,
        "x": 0.1,
        "y": 0.1
       },
       "content": {
        "cell": "d43a4ce5-aeaa-4ff5-97f6-188457418fa2",
        "part": "whole"
       },
       "id": "642f6513-4e1a-446f-b3b8-d1d1d00275a3"
      }
     }
    },
    "eec38978-93e2-4708-97af-d15bce7a20f2": {
     "id": "eec38978-93e2-4708-97af-d15bce7a20f2",
     "prev": "be7c2ab2-6056-40d4-be5b-4937b5545de0",
     "regions": {
      "95b9bcf8-fe48-4786-a12c-b86e3d61564b": {
       "attrs": {
        "height": 0.8,
        "width": 0.8,
        "x": 0.1,
        "y": 0.1
       },
       "content": {
        "cell": "10c6216b-4f2e-4b26-829d-f2bbac957738",
        "part": "whole"
       },
       "id": "95b9bcf8-fe48-4786-a12c-b86e3d61564b"
      }
     }
    },
    "efa06682-95b6-49a2-a6c0-c57d740d8e06": {
     "id": "efa06682-95b6-49a2-a6c0-c57d740d8e06",
     "prev": "e1075cde-fb14-472c-973a-a65ff3f46ecb",
     "regions": {
      "6376e95f-fd76-48c8-92a7-385a5bbd6ed5": {
       "attrs": {
        "height": 0.8,
        "width": 0.8,
        "x": 0.1,
        "y": 0.1
       },
       "content": {
        "cell": "b9cbdfa6-b6f9-4bb3-bb42-08a0cf80c813",
        "part": "whole"
       },
       "id": "6376e95f-fd76-48c8-92a7-385a5bbd6ed5"
      }
     }
    },
    "f1bdb37f-f94d-4bea-90f0-ad8d7b421797": {
     "id": "f1bdb37f-f94d-4bea-90f0-ad8d7b421797",
     "prev": "84434314-7c40-41f8-ba0c-f7f9427ada17",
     "regions": {
      "bb1b63ac-78dd-48ed-ae19-cc835c888235": {
       "attrs": {
        "height": 0.8,
        "width": 0.8,
        "x": 0.1,
        "y": 0.1
       },
       "content": {
        "cell": "18035ed3-1ad5-4493-ab88-7795b4cc8812",
        "part": "whole"
       },
       "id": "bb1b63ac-78dd-48ed-ae19-cc835c888235"
      }
     }
    },
    "f7249619-f013-48fb-a541-6fdbe2a0f98f": {
     "id": "f7249619-f013-48fb-a541-6fdbe2a0f98f",
     "prev": "12c358a7-e722-497e-9d27-2a13b17e2dfc",
     "regions": {
      "244101ee-6d70-4c1c-a6f9-ac97586c7413": {
       "attrs": {
        "height": 0.8,
        "width": 0.8,
        "x": 0.1,
        "y": 0.1
       },
       "content": {
        "cell": "3e647aea-da4d-4f78-b12d-34d1ecf0d69e",
        "part": "whole"
       },
       "id": "244101ee-6d70-4c1c-a6f9-ac97586c7413"
      }
     }
    },
    "fe270581-559b-491f-b1d0-be801c047e6b": {
     "id": "fe270581-559b-491f-b1d0-be801c047e6b",
     "prev": "d07ed659-fee2-4d90-a0a2-5185cd081a68",
     "regions": {
      "4ec93138-d8f6-455d-a83e-2ba4ea99ea22": {
       "attrs": {
        "height": 0.8,
        "width": 0.8,
        "x": 0.1,
        "y": 0.1
       },
       "content": {
        "cell": "8b425d30-526d-4569-9fd2-0daffe42d290",
        "part": "whole"
       },
       "id": "4ec93138-d8f6-455d-a83e-2ba4ea99ea22"
      }
     }
    }
   },
   "themes": {}
  }
 },
 "nbformat": 4,
 "nbformat_minor": 2
}
