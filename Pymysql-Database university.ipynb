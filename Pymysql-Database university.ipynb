{
 "cells": [
  {
   "cell_type": "code",
   "execution_count": null,
   "metadata": {},
   "outputs": [],
   "source": [
    "import pymysql as msql\n",
    "import pandas as pd"
   ]
  },
  {
   "cell_type": "markdown",
   "metadata": {},
   "source": [
    "### pymysql.connect()方法参数\n",
    "- host – Host where the database server is located\n",
    "- user – Username to log in as\n",
    "- password (passwd) – Password to use.\n",
    "- database (db) – Database to use, None to not use a particular one.\n",
    "- port – MySQL port to use, default is usually OK. (default: 3306)\n",
    "- bind_address – When the client has multiple network interfaces, specify the interface from which to connect to the host. Argument can be a hostname or an IP address.\n",
    "- charset – Charset you want to use.\n",
    "- sql_mode – Default SQL_MODE to use.\n",
    "- use_unicode – Whether or not to default to unicode strings. This option defaults to true for Py3k.\n",
    "- cursorclass – Custom cursor class to use. default: list, or DictCusor\n",
    "- connect_timeout – Timeout before throwing an exception when connecting. (default: 10, min: 1, max: 31536000)\n",
    "- read_default_group – Group to read from in the configuration file.\n",
    "- autocommit – Autocommit mode. None means use server default. (default: False)\n",
    "- local_infile – Boolean to enable the use of LOAD DATA LOCAL command. (default: False)\n",
    "- max_allowed_packet – Max size of packet sent to server in bytes. (default: 16MB) Only used to limit size of “LOAD LOCAL INFILE” data packet smaller than default (16KB).\n",
    "- defer_connect – Don’t explicitly connect on contruction - wait for connect call. (default: False)"
   ]
  },
  {
   "cell_type": "code",
   "execution_count": null,
   "metadata": {},
   "outputs": [],
   "source": [
    "configs = {'host': 'localhost',\n",
    "          'port': 3306,\n",
    "          'user': 'root',\n",
    "          'password': 'xiaoyu1986',\n",
    "          'db': 'university'}\n",
    "          #'cursorclass': msql.cursors.DictCursor}  # cusorclass参数可不提供，此时返回列表查询结果 "
   ]
  },
  {
   "cell_type": "code",
   "execution_count": null,
   "metadata": {},
   "outputs": [],
   "source": [
    "conn = msql.connect(**configs)  # 等价于 msql.connect('localhost', 'root', 'xiaoyu1986', 'univeristy', 3306)"
   ]
  },
  {
   "cell_type": "markdown",
   "metadata": {},
   "source": [
    "### connect对象的方法\n",
    "\n",
    "- autocommit_mode = None.\n",
    "    specified autocommit mode. None means use server default.\n",
    "\n",
    "- begin().\n",
    "    Begin transaction.\n",
    "\n",
    "- close().\n",
    "    Send the quit message and close the socket\n",
    "\n",
    "- commit().\n",
    "    Commit changes to stable storage\n",
    "\n",
    "- cursor(cursor=None).\n",
    "    Create a new cursor to execute queries with\n",
    "\n",
    "- ping(reconnect=True).\n",
    "    Check if the server is alive\n",
    "    \n",
    "- rollback().\n",
    "    Roll back the current transaction\n",
    "\n",
    "- select_db(db).\n",
    "    Set current db\n",
    "\n",
    "- show_warnings().\n",
    "    SHOW WARNINGS"
   ]
  },
  {
   "cell_type": "code",
   "execution_count": null,
   "metadata": {},
   "outputs": [],
   "source": [
    "conn.select_db('temple')  # 变更当前数据库"
   ]
  },
  {
   "cell_type": "code",
   "execution_count": null,
   "metadata": {},
   "outputs": [],
   "source": [
    "conn.show_warnings()  # 提示信息"
   ]
  },
  {
   "cell_type": "markdown",
   "metadata": {},
   "source": [
    "### cursor对象\n",
    "\n",
    "- callproc(procname, args=()).\n",
    "    - Execute stored procedure procname with args\n",
    "    - procname – string, name of procedure to execute on server\n",
    "    - args – Sequence of parameters to use with procedure\n",
    "    - Returns the original args.\n",
    "\n",
    "- close()\n",
    "    - Closing a cursor just exhausts all remaining data.\n",
    " \n",
    "- execute(query, args=None)\n",
    "    - Execute a query\n",
    "    - Parameters:\t\n",
    "        query (str) – Query to execute.\n",
    "        args (tuple, list or dict) – parameters used with query. (optional)\n",
    "    - Returns: Number of affected rows\n",
    "    - Return type: int\n",
    "    - If args is a list or tuple, %s can be used as a placeholder in the query. If args is a dict, %(name)s can be used as a placeholder in the query.\n",
    "    \n",
    "- executemany(query, args)\n",
    "    - Run several data against one query\n",
    "    - Parameters:\t\n",
    "        - query – query to execute on server\n",
    "        - args – Sequence of sequences or mappings. It is used as parameter.\n",
    "    - Returns:\t\n",
    "        - Number of rows affected, if any.   \n",
    "    - This method improves performance on multiple-row INSERT and REPLACE. Otherwise it is equivalent to looping over args with execute().   \n",
    "- fetchall()\n",
    "    - Fetch all the rows\n",
    "- fetchmany(size=None)\n",
    "    - Fetch several rows\n",
    "- fetchone()\n",
    "    - Fetch the next row\n",
    "- max_stmt_length = 1024000\n",
    "    - Max statement size which executemany() generates.\n",
    "    - Max size of allowed statement is max_allowed_packet - packet_header_size. Default value of max_allowed_packet is 1048576."
   ]
  },
  {
   "cell_type": "code",
   "execution_count": null,
   "metadata": {},
   "outputs": [],
   "source": [
    "cursor = conn.cursor()  # 通过connect对象创建一个cursor对象"
   ]
  },
  {
   "cell_type": "code",
   "execution_count": null,
   "metadata": {},
   "outputs": [],
   "source": [
    "cursor.execute('select database()')"
   ]
  },
  {
   "cell_type": "code",
   "execution_count": null,
   "metadata": {},
   "outputs": [],
   "source": [
    "print cursor.fetchall()"
   ]
  },
  {
   "cell_type": "markdown",
   "metadata": {},
   "source": [
    "### 创建表\n",
    "\n",
    "- table_name: t1\n",
    "- columns: id, name"
   ]
  },
  {
   "cell_type": "code",
   "execution_count": null,
   "metadata": {},
   "outputs": [],
   "source": [
    "cursor.execute(\"CREATE TABLE `t1`(`id` int(5) primary key, `name` varchar(20))\")  # 创建t1表"
   ]
  },
  {
   "cell_type": "code",
   "execution_count": null,
   "metadata": {},
   "outputs": [],
   "source": [
    "conn.commit()"
   ]
  },
  {
   "cell_type": "markdown",
   "metadata": {},
   "source": [
    "### 修改表\n",
    "- 增加两个属性 gender, depart_no"
   ]
  },
  {
   "cell_type": "code",
   "execution_count": null,
   "metadata": {},
   "outputs": [],
   "source": [
    "cursor = conn.cursor(cursor=msql.cursors.DictCursor)"
   ]
  },
  {
   "cell_type": "code",
   "execution_count": null,
   "metadata": {},
   "outputs": [],
   "source": [
    "cursor.execute(\"show columns from t1\")\n",
    "print [(x['Field'], x['Type'], x['Key']) for x in cursor.fetchall()]"
   ]
  },
  {
   "cell_type": "code",
   "execution_count": null,
   "metadata": {},
   "outputs": [],
   "source": [
    "cursor.execute(\"ALTER TABLE `t1` ADD `gender` char(1), ADD `depart_no` char(5)\")"
   ]
  },
  {
   "cell_type": "markdown",
   "metadata": {},
   "source": [
    "### 插入单行.execute()"
   ]
  },
  {
   "cell_type": "code",
   "execution_count": null,
   "metadata": {},
   "outputs": [],
   "source": [
    "sql = \"INSERT INTO `t1`(`id`, `name`) values (%s, %s)\"\n",
    "cursor.execute(sql, (1, 'HH'))  # 参数化查询\n",
    "cursor.execute(sql, ('2', 'LC'))  # 类型自动转换\n",
    "cursor.execute(sql % (3, \"'LL'\"))  # 字符串拼接 sql%('1', 'HH'), 注意最后拼接成的字符串与mysql中的语法一致"
   ]
  },
  {
   "cell_type": "code",
   "execution_count": null,
   "metadata": {},
   "outputs": [],
   "source": [
    "sql_1 = \"INSERT INTO `t1`(`id`, `name`) values (:0, :1)\"  # 参数化查询：占位符的另一种写法\n",
    "cursor.execute(sql, (4, 'HX'))"
   ]
  },
  {
   "cell_type": "code",
   "execution_count": null,
   "metadata": {},
   "outputs": [],
   "source": [
    "sql_2 = \"INSERT INTO `t1`(`id`, `name`) values ({0}, {1})\"  # 新型字符串格式化1\n",
    "cursor.execute(sql_2.format(repr(5), repr('DC')))"
   ]
  },
  {
   "cell_type": "code",
   "execution_count": null,
   "metadata": {},
   "outputs": [],
   "source": [
    "sql_3 = \"INSERT INTO `t1`(`id`, `name`) values ({id}, {name})\" # 新型字符串格式化2\n",
    "cursor.execute(sql_3.format(id=repr(6), name=repr('LL')))"
   ]
  },
  {
   "cell_type": "markdown",
   "metadata": {},
   "source": [
    "### 插入多行.executemany()"
   ]
  },
  {
   "cell_type": "code",
   "execution_count": null,
   "metadata": {},
   "outputs": [],
   "source": [
    "ins_list = [(7, 'HX'), (8, 'GC')]\n",
    "cursor.executemany(sql, ins_list)"
   ]
  },
  {
   "cell_type": "code",
   "execution_count": null,
   "metadata": {},
   "outputs": [],
   "source": [
    "conn.commit()"
   ]
  },
  {
   "cell_type": "markdown",
   "metadata": {},
   "source": [
    "### 查询（返回1行或多行结果）"
   ]
  },
  {
   "cell_type": "code",
   "execution_count": null,
   "metadata": {},
   "outputs": [],
   "source": [
    "cursor = conn.cursor(cursor=msql.cursors.DictCursor)  # DictCursor返回的查询结果为字典"
   ]
  },
  {
   "cell_type": "code",
   "execution_count": null,
   "metadata": {},
   "outputs": [],
   "source": [
    "cursor.execute(\"SELECT `id`, `name` FROM `t1`\")\n",
    "cursor.rowcount  # 返回execute()方法影响的行数"
   ]
  },
  {
   "cell_type": "code",
   "execution_count": null,
   "metadata": {},
   "outputs": [],
   "source": [
    "r1 = cursor.fetchone()\n",
    "print r1"
   ]
  },
  {
   "cell_type": "markdown",
   "metadata": {},
   "source": [
    "- 移动游标cursor.scroll()\n",
    "    - cursor.scroll(-1, mode='relative') # 相对当前位置移动\n",
    "    - cursor.scroll(1, mode='absolute') # 相对绝对位置移动"
   ]
  },
  {
   "cell_type": "code",
   "execution_count": null,
   "metadata": {},
   "outputs": [],
   "source": [
    "cursor.scroll(0, mode='absolute') # 相对绝对位置移动, 初始位置为0\n",
    "for i, x in enumerate(cursor.fetchall()):\n",
    "    print i, x"
   ]
  },
  {
   "cell_type": "markdown",
   "metadata": {},
   "source": [
    "### 更新表"
   ]
  },
  {
   "cell_type": "code",
   "execution_count": null,
   "metadata": {},
   "outputs": [],
   "source": [
    "sql = \"\"\"UPDATE `t1`\n",
    "         SET `gender`='1', `depart_no`='10001'\n",
    "         WHERE `id`=1\n",
    "      \"\"\"\n",
    "\n",
    "cursor.execute(sql)"
   ]
  },
  {
   "cell_type": "code",
   "execution_count": null,
   "metadata": {},
   "outputs": [],
   "source": [
    "cursor.execute(\"SELECT `id`, `name`, `gender` FROM `t1` WHERE `id`=1\")"
   ]
  },
  {
   "cell_type": "code",
   "execution_count": null,
   "metadata": {},
   "outputs": [],
   "source": [
    "#cursor.scroll(-1, mode='relative')\n",
    "cursor.fetchone()"
   ]
  },
  {
   "cell_type": "markdown",
   "metadata": {},
   "source": [
    "- cursor.description获取查询结果字段信息"
   ]
  },
  {
   "cell_type": "code",
   "execution_count": null,
   "metadata": {},
   "outputs": [],
   "source": [
    "cursor.description"
   ]
  },
  {
   "cell_type": "markdown",
   "metadata": {},
   "source": [
    "### 删除表"
   ]
  },
  {
   "cell_type": "code",
   "execution_count": null,
   "metadata": {},
   "outputs": [],
   "source": [
    "cursor.execute(\"DROP TABLE `t1`\")"
   ]
  },
  {
   "cell_type": "markdown",
   "metadata": {},
   "source": [
    "# 案例：构建university数据库中的表结构，并输入实例数据"
   ]
  },
  {
   "cell_type": "code",
   "execution_count": null,
   "metadata": {},
   "outputs": [],
   "source": [
    "conn.select_db('progrm')"
   ]
  },
  {
   "cell_type": "code",
   "execution_count": null,
   "metadata": {},
   "outputs": [],
   "source": [
    "def table_struc(sql, conn=conn):\n",
    "    with conn.cursor() as cursor:\n",
    "        cursor.execute(sql)\n",
    "        conn.commit()"
   ]
  },
  {
   "cell_type": "code",
   "execution_count": null,
   "metadata": {},
   "outputs": [],
   "source": [
    "def insert_data(sql, data, conn=conn):\n",
    "    try:\n",
    "        with conn.cursor() as cursor:\n",
    "            cursor.executemany(sql, data)\n",
    "            conn.commit()\n",
    "    \n",
    "    except Exception, e:\n",
    "        print e\n",
    "        conn.rollback()   "
   ]
  },
  {
   "cell_type": "markdown",
   "metadata": {},
   "source": [
    "### 1. classroom表"
   ]
  },
  {
   "cell_type": "code",
   "execution_count": null,
   "metadata": {},
   "outputs": [],
   "source": [
    "with conn.cursor() as cursor:\n",
    "    sql = \"\"\"create table `classroom`(\n",
    "                           `building` varchar(15),\n",
    "                           `room_number` varchar(7),\n",
    "                           `capacity` decimal(4, 0),\n",
    "                            primary key (`building`, `room_number`))\n",
    "          \"\"\"\n",
    "\n",
    "    cursor.execute(sql)\n",
    "    conn.commit()"
   ]
  },
  {
   "cell_type": "code",
   "execution_count": null,
   "metadata": {},
   "outputs": [],
   "source": [
    "data = [('Packard', '101', '500'),\n",
    "       ('Painter', '514', '10'),\n",
    "       ('Taylor', '3128', '70'),\n",
    "       ('Watson', '100', '30'),\n",
    "       ('Watson', '120', '50')]"
   ]
  },
  {
   "cell_type": "code",
   "execution_count": null,
   "metadata": {},
   "outputs": [],
   "source": [
    "try:\n",
    "    with conn.cursor() as cursor:\n",
    "        sql = \"INSERT INTO `classroom` (`building`, `room_number`, `capacity`) VALUES (%s, %s, %s)\"\n",
    "        for x in data:  # cursor.executemany(sql, data)\n",
    "            cursor.execute(sql, x)\n",
    "\n",
    "        conn.commit()\n",
    "        \n",
    "except:\n",
    "    conn.rollback()"
   ]
  },
  {
   "cell_type": "markdown",
   "metadata": {},
   "source": [
    "### 2. department表"
   ]
  },
  {
   "cell_type": "code",
   "execution_count": null,
   "metadata": {},
   "outputs": [],
   "source": [
    "sql = \"\"\"create table `department`(\n",
    "                                `dept_name` varchar(20) primary key,\n",
    "                                `building` varchar(15),\n",
    "                                `budget` decimal(12, 2));\"\"\"\n",
    "\n",
    "table_struc(sql)"
   ]
  },
  {
   "cell_type": "code",
   "execution_count": null,
   "metadata": {},
   "outputs": [],
   "source": [
    "data = [('Biology', 'Watson', '90000'), \n",
    "        ('Comp. Sci.', 'Taylor', '100000'),\n",
    "        ('Elec. Eng.', 'Taylor', '85000'), \n",
    "        ('Finance', 'Painter', '120000'),\n",
    "        ('History', 'Painter', '50000'), \n",
    "        ('Music', 'Packward', '80000'),\n",
    "        ('Physics', 'Watson', '70000')]\n",
    "\n",
    "sql = \"INSERT INTO `department` (`dept_name`, `building`, `budget`) VALUES (%s, %s, %s)\"\n",
    "\n",
    "insert_data(sql, data)"
   ]
  },
  {
   "cell_type": "code",
   "execution_count": null,
   "metadata": {},
   "outputs": [],
   "source": [
    "with conn.cursor() as cursor:\n",
    "    cursor.execute(\"update department set dept_name = 'Comp. Sci.' where dept_name = 'Comp. Sci'\")\n",
    "    conn.commit()"
   ]
  },
  {
   "cell_type": "code",
   "execution_count": null,
   "metadata": {},
   "outputs": [],
   "source": [
    "with conn.cursor() as cursor:\n",
    "    sql = \"SELECT `*` FROM `department` WHERE `building`=%s\"\n",
    "    cursor.execute(sql, 'Taylor')\n",
    "    result = cursor.fetchone()\n",
    "    print result"
   ]
  },
  {
   "cell_type": "markdown",
   "metadata": {},
   "source": [
    "### 3. instructor表"
   ]
  },
  {
   "cell_type": "code",
   "execution_count": null,
   "metadata": {},
   "outputs": [],
   "source": [
    "sql = \"\"\"create table `instructor`(\n",
    "                            `ID` varchar(5) primary key,\n",
    "                            `name` varchar(20),\n",
    "                            `dept_name` varchar(20),\n",
    "                            `salary` decimal(8,2),\n",
    "                             foreign key (dept_name) references department (dept_name));\n",
    "      \"\"\"\n",
    "\n",
    "table_struc(sql)"
   ]
  },
  {
   "cell_type": "code",
   "execution_count": null,
   "metadata": {},
   "outputs": [],
   "source": [
    "data = [('10101', 'Srinivasan', 'Comp. Sci.', '65000'),\n",
    "       ('12121', 'Wu', 'Finance', '90000'),\n",
    "       ('15151', 'Mozart', 'Music', '40000'),\n",
    "       ('22222', 'Einstein', 'Physics', '95000'),\n",
    "       ('32343', 'EI Said', 'History', '60000'),\n",
    "       ('33456', 'Gold', 'Physics', '87000'),\n",
    "       ('45565', 'Katz', 'Comp. Sci.', '75000'),\n",
    "       ('58583', 'Califieri', 'History', '62000'),\n",
    "       ('76766', 'Crick', 'Biology', '72000'),\n",
    "       ('76543', 'Singh', 'Finance', '80000'),\n",
    "       ('83821', 'Brandt', 'Comp. Sci.', '92000'),\n",
    "       ('98345', 'Kim', 'Elec. Eng.', '80000')]\n",
    "\n",
    "sql = \"INSERT INTO `instructor` (`ID`, `name`, `dept_name`, `salary`) VALUES (%s, %s, %s, %s)\"\n",
    "insert_data(sql, data)"
   ]
  },
  {
   "cell_type": "markdown",
   "metadata": {},
   "source": [
    "### 4. course表"
   ]
  },
  {
   "cell_type": "code",
   "execution_count": null,
   "metadata": {},
   "outputs": [],
   "source": [
    "sql = \"\"\"create table `course`(\n",
    "                        `course_id` varchar(7) primary key,\n",
    "                        `title` varchar(50),\n",
    "                        `dept_name` varchar(20),\n",
    "                        `credits` decimal(2,0),\n",
    "                        foreign key (`dept_name`) references `department`(`dept_name`))\"\"\"\n",
    "\n",
    "table_struc(sql)"
   ]
  },
  {
   "cell_type": "code",
   "execution_count": null,
   "metadata": {},
   "outputs": [],
   "source": [
    "data = [('BIO-101', 'Intro. to Biology', 'Biology', '4'),\n",
    "       ('BIO-301', 'Genetics', 'Biology', '4'),\n",
    "       ('BIO-399', 'Computational Biology', 'Biology', '3'),\n",
    "       ('CS-101', 'Intro. to Computer Science', 'Comp. Sci.', '4'),\n",
    "       ('CS-190', 'Game Design', 'Comp. Sci.', '4'),\n",
    "       ('CS-315', 'Robotics', 'Comp. Sci.', '3'),\n",
    "       ('CS-319', 'Image Processing', 'Comp. Sci.', '3'),\n",
    "       ('CS-347', 'Database System Concepts', 'Comp. Sci.', '3'),\n",
    "       ('EE-181', 'Intro. to Digital Systems', 'Elec. Eng.', '3'),\n",
    "       ('FIN-201', 'Investment Banking', 'Finance', '3'),\n",
    "       ('HIS-351', 'World History', 'History', '3'),\n",
    "       ('MU-199', 'Music Video Production', 'Music', '3'),\n",
    "       ('PHY-101', 'Physical Principles', 'Physics', '4')]\n",
    "\n",
    "sql = \"INSERT INTO `course` (`course_id`, `title`, `dept_name`, `credits`) VALUES (%s, %s, %s, %s)\"\n",
    "\n",
    "insert_data(sql, data)"
   ]
  },
  {
   "cell_type": "markdown",
   "metadata": {},
   "source": [
    "### 5. section表"
   ]
  },
  {
   "cell_type": "code",
   "execution_count": null,
   "metadata": {},
   "outputs": [],
   "source": [
    "sql = \"\"\"create table `section`(\n",
    "                         `course_id` varchar(7),\n",
    "                         `sec_id` varchar(8),\n",
    "                         `semester` varchar(6),\n",
    "                         `year` decimal(4,0),\n",
    "                         `building` varchar(15),\n",
    "                         `room_number` varchar(7),\n",
    "                         `time_slot_id` varchar(4),\n",
    "                         primary key (`course_id`, `sec_id`, `semester`, `year`),\n",
    "                         foreign key (`course_id`) references `course`(`course_id`))\n",
    "       \"\"\"\n",
    "\n",
    "table_struc(sql)"
   ]
  },
  {
   "cell_type": "code",
   "execution_count": null,
   "metadata": {},
   "outputs": [],
   "source": [
    "data = [('BIO-101', '1', 'Summer', '2009', 'Painter', '514', 'B'),\n",
    "       ('BIO-301', '1', 'Summer', '2010', 'Painter', '514', 'A'),\n",
    "       ('CS-101', '1', 'Fall', '2009', 'Packard', '101', 'H'),\n",
    "       ('CS-101', '1', 'Spring', '2010', 'Packard', '101', 'F'),\n",
    "       ('CS-190', '1', 'Spring', '2009', 'Taylor', '3128', 'E'),\n",
    "       ('CS-190', '2', 'Spring', '2009', 'Taylor', '3128', 'A'),\n",
    "       ('CS-315', '1', 'Spring', '2010', 'Watson', '120', 'D'),\n",
    "       ('CS-319', '1', 'Spring', '2010', 'Watson', '100', 'B'),\n",
    "       ('CS-319', '2', 'Spring', '2010', 'Taylor', '3128', 'C'),\n",
    "       ('CS-347', '1', 'Fall', '2009', 'Taylor', '3128', 'A'),\n",
    "       ('EE-181', '1', 'Spring', '2009', 'Taylor', '3128', 'C'),\n",
    "       ('FIN-201', '1', 'Spring', '2010', 'Packard', '101', 'B'),\n",
    "       ('HIS-351', '1', 'Spring', '2010', 'Painter', '514', 'C'),\n",
    "       ('MU-199', '1', 'Spring', '2010', 'Packard', '101', 'D'),\n",
    "       ('PHY-101', '1', 'Fall', '2009', 'Watson', '100', 'A')\n",
    "       ]\n",
    "\n",
    "sql = \"\"\"INSERT INTO `section` (`course_id`, `sec_id`, `semester`, `year`, `building`, `room_number`, `time_slot_id`) \n",
    "                    VALUES (%s, %s, %s, %s, %s, %s, %s)\"\"\"\n",
    "\n",
    "insert_data(sql, data)"
   ]
  },
  {
   "cell_type": "markdown",
   "metadata": {},
   "source": [
    "### 6. teaches表"
   ]
  },
  {
   "cell_type": "code",
   "execution_count": null,
   "metadata": {},
   "outputs": [],
   "source": [
    "sql = \"\"\"create table `teaches`(\n",
    "                         `ID` varchar(5),\n",
    "                         `course_id` varchar(7),\n",
    "                         `sec_id` varchar(8),\n",
    "                         `semester` varchar(6),\n",
    "                         `year` decimal(4,0),\n",
    "                         primary key (`ID`, `course_id`, `sec_id`, `semester`, `year`),\n",
    "                         foreign key (`ID`) references `instructor`(`ID`),\n",
    "                         foreign key (`course_id`, `sec_id`, `semester`, `year`) references \n",
    "                                         `section`(`course_id`, `sec_id`, `semester`, `year`))\n",
    "                         \"\"\"\n",
    "\n",
    "table_struc(sql)"
   ]
  },
  {
   "cell_type": "code",
   "execution_count": null,
   "metadata": {},
   "outputs": [],
   "source": [
    "data = [('10101', 'CS-101', '1', 'Fall', '2009'),\n",
    "        ('10101', 'CS-315', '1', 'Spring', '2010'),\n",
    "        ('10101', 'CS-347', '1', 'Fall', '2009'),\n",
    "        ('12121', 'FIN-201', '1', 'Spring', '2010'),\n",
    "        ('15151', 'MU-199', '1', 'Spring', '2010'),\n",
    "        ('22222', 'PHY-101', '1', 'Fall', '2009'),\n",
    "        ('32343', 'HIS-351', '1', 'Spring', '2010'),\n",
    "        ('45565', 'CS-101', '1', 'Spring', '2010'),\n",
    "        ('45565', 'CS-319', '1', 'Spring', '2010'),\n",
    "        ('76766', 'BIO-101', '1', 'Summer', '2009'),\n",
    "        ('76766', 'BIO-301', '1', 'Summer', '2010'),\n",
    "        ('83821', 'CS-190', '1', 'Spring', '2009'),\n",
    "        ('83821', 'CS-190', '2', 'Spring', '2009'),\n",
    "        ('83821', 'CS-319', '2', 'Spring', '2010'),\n",
    "        ('98345', 'EE-181', '1', 'Spring', '2009')\n",
    "       ]\n",
    "\n",
    "sql = \"\"\"INSERT INTO `teaches` (`ID`, `course_id`, `sec_id`, `semester`, `year`) \n",
    "                    VALUES (%s, %s, %s, %s, %s)\"\"\"\n",
    "\n",
    "insert_data(sql, data)"
   ]
  },
  {
   "cell_type": "markdown",
   "metadata": {},
   "source": [
    "### 7. prereq表"
   ]
  },
  {
   "cell_type": "code",
   "execution_count": null,
   "metadata": {},
   "outputs": [],
   "source": [
    "sql = \"\"\"create table `prereq`(\n",
    "                        `course_id` varchar(7) primary key,\n",
    "                        `prereq_id` varchar(7),\n",
    "                        foreign key (`prereq_id`) references `course`(`course_id`))\n",
    "          \"\"\"\n",
    "\n",
    "table_struc(sql)"
   ]
  },
  {
   "cell_type": "code",
   "execution_count": null,
   "metadata": {},
   "outputs": [],
   "source": [
    "data = [('BIO-301', 'BIO-101'),\n",
    "       ('BIO-399', 'BIO-101'),\n",
    "       ('CS-190', 'CS-101'),\n",
    "       ('CS-315', 'CS-101'),\n",
    "       ('CS-319', 'CS-101'),\n",
    "       ('CS-347', 'CS-101'),\n",
    "       ('EE-181', 'PHY-101')]\n",
    "\n",
    "sql = \"INSERT INTO `prereq` (`course_id`, `prereq_id`) VALUES (%s, %s)\"\n",
    "insert_data(sql, data)"
   ]
  },
  {
   "cell_type": "markdown",
   "metadata": {},
   "source": [
    "### 8. student表"
   ]
  },
  {
   "cell_type": "code",
   "execution_count": null,
   "metadata": {},
   "outputs": [],
   "source": [
    "sql = \"\"\"create table `student`(\n",
    "                         `ID` varchar(5) primary key,\n",
    "                         `name` varchar(20) not null,\n",
    "                         `dept_name` varchar(20),\n",
    "                         `tot_cred` decimal(3, 0) check (tot_cred >= 0),\n",
    "                         foreign key (`dept_name`) references `department` (`dept_name`) on delete set null)\n",
    "                         \"\"\"\n",
    "table_struc(sql)"
   ]
  },
  {
   "cell_type": "code",
   "execution_count": null,
   "metadata": {},
   "outputs": [],
   "source": [
    "data = [('00128', 'Zhang', 'Comp. Sci.', '102'),\n",
    "       ('12345', 'Shankar', 'Comp. Sci.', '32'),\n",
    "       ('19991', 'Brandt', 'History', '80'),\n",
    "       ('23121', 'Chavez', 'Finance', '110'),\n",
    "       ('44553', 'Peltier', 'Physics', '56'),\n",
    "       ('45678', 'Levy', 'Physics', '46'),\n",
    "       ('54321', 'Williams', 'Comp. Sci.', '54'),\n",
    "       ('55739', 'Sanchez', 'Music', '38'),\n",
    "       ('70557', 'Snow', 'Physics', '0'),\n",
    "       ('76543', 'Brown', 'Comp. Sci.', '58'),\n",
    "       ('76653', 'Aoi', 'Elec. Eng.', '60'),\n",
    "       ('98765', 'Bourikas', 'Elec. Eng.', '98'),\n",
    "       ('98988', 'Tanaka', 'Biology', '120')]\n",
    "\n",
    "sql = \"INSERT INTO `student` (`ID`, `name`, `dept_name`, `tot_cred`) VALUES (%s, %s, %s, %s)\"\n",
    "insert_data(sql, data)"
   ]
  },
  {
   "cell_type": "markdown",
   "metadata": {},
   "source": [
    "### 9. takes表"
   ]
  },
  {
   "cell_type": "code",
   "execution_count": null,
   "metadata": {},
   "outputs": [],
   "source": [
    "sql = \"\"\"create table `takes`(\n",
    "                   `ID` varchar(5),\n",
    "                   `course_id` varchar(7),\n",
    "                   `sec_id` varchar(8),\n",
    "                   `semester` varchar(6),\n",
    "                   `year` decimal(4, 0),\n",
    "                   `grade` varchar(2),\n",
    "                   primary key (`ID`, `course_id`, `sec_id`, `semester`, `year`),\n",
    "                   foreign key (`course_id`, `sec_id`, `semester`, `year`) references \n",
    "                                  `section`(`course_id`, `sec_id`, `semester`, `year`) on delete cascade,\n",
    "                   foreign key (`ID`) references `student`(`ID`) on delete cascade)\n",
    "      \"\"\"\n",
    "\n",
    "table_struc(sql)"
   ]
  },
  {
   "cell_type": "code",
   "execution_count": null,
   "metadata": {},
   "outputs": [],
   "source": [
    "data = [('00128','CS-101','1','Fall','2009','A'),\n",
    "        ('00128','CS-347','1','Fall','2009','A-'),\n",
    "        ('12345','CS-101','1','Fall','2009','C'),\n",
    "        ('12345','CS-190','2','Spring','2009','A'),\n",
    "        ('12345','CS-315','1','Spring','2010','A'),\n",
    "        ('12345','CS-347','1','Fall','2009','A'),\n",
    "        ('19991','HIS-351','1','Spring','2010','B'),\n",
    "        ('23121','FIN-201','1','Spring','2010','C+'),\n",
    "        ('44553','PHY-101','1','Fall','2009','B-'),\n",
    "        ('45678','CS-101','1','Fall','2009','F'),\n",
    "        ('45678','CS-101','1','Spring','2010','B+'),\n",
    "        ('45678','CS-319','1','Spring','2010','B'),\n",
    "        ('54321','CS-101','1','Fall','2009','A-'),\n",
    "        ('54321','CS-190','2','Spring','2009','B+'),\n",
    "        ('55739','MU-199','1','Spring','2010','A-'),\n",
    "        ('76543','CS-101','1','Fall','2009','A'),\n",
    "        ('76543','CS-319','2','Spring','2010','A'),\n",
    "        ('76653','EE-181','1','Spring','2009','C'),\n",
    "        ('98765','CS-101','1','Fall','2009','C-'),\n",
    "        ('98765','CS-315','1','Spring','2010','B'),\n",
    "        ('98988','BIO-101','1','Summer','2009','A'),\n",
    "        ('98988','BIO-301','1','Summer','2010',None)]\n",
    "\n",
    "sql = \"INSERT INTO `takes` (`ID`, `course_id`, `sec_id`, `semester`, `year`, `grade`) VALUES (%s, %s, %s, %s, %s, %s)\"\n",
    "insert_data(sql, data)"
   ]
  },
  {
   "cell_type": "markdown",
   "metadata": {},
   "source": [
    "### 10. advisor表"
   ]
  },
  {
   "cell_type": "code",
   "execution_count": null,
   "metadata": {},
   "outputs": [],
   "source": [
    "sql = \"\"\"create table `advisor`(\n",
    "                     `s_ID` varchar(5) primary key,\n",
    "                     `i_ID` varchar(5),\n",
    "                     foreign key (`i_ID`) references `instructor`(`ID`) on delete set null,\n",
    "                     foreign key (`s_ID`) references `student`(`ID`) on delete cascade)\n",
    "      \"\"\"\n",
    "\n",
    "table_struc(sql)"
   ]
  },
  {
   "cell_type": "code",
   "execution_count": null,
   "metadata": {},
   "outputs": [],
   "source": [
    "data = [('00128','45565'),\n",
    "       ('12345','10101'),\n",
    "       ('23121','76543'),\n",
    "       ('44553','22222'),\n",
    "       ('45678','22222'),\n",
    "       ('76543','45565'),\n",
    "       ('76653','98345'),\n",
    "       ('98765','98345'),\n",
    "       ('98988','76766')]\n",
    "\n",
    "sql = \"INSERT INTO `advisor` (`s_ID`, `i_ID`) VALUES (%s, %s)\"\n",
    "insert_data(sql, data)"
   ]
  },
  {
   "cell_type": "markdown",
   "metadata": {},
   "source": [
    "### timeslot表"
   ]
  },
  {
   "cell_type": "code",
   "execution_count": null,
   "metadata": {},
   "outputs": [],
   "source": [
    "sql = \"\"\"create table `timeslot`(\n",
    "                      `time_slot_id` varchar(4),\n",
    "                      `day` varchar(4) check (day in ('M', 'T', 'W', 'R', 'F', 'S', 'U')),\n",
    "                      `start_time` time,\n",
    "                      `end_time` time,\n",
    "                      primary key (`time_slot_id`, `day`, `start_time`))\n",
    "      \"\"\"\n",
    "\n",
    "table_struc(sql)"
   ]
  },
  {
   "cell_type": "code",
   "execution_count": null,
   "metadata": {},
   "outputs": [],
   "source": [
    "data = [('A','M','8:00','8:50'),\n",
    "       ('A','W','8:00','8:50'),\n",
    "       ('A','F','8:00','8:50'),\n",
    "       ('B','M','9:00','9:50'),\n",
    "       ('B','W','9:00','9:50'),\n",
    "       ('B','F','9:00','9:50'),\n",
    "       ('C','M','11:00','11:50'),\n",
    "       ('C','W','11:00','11:50'),\n",
    "       ('C','F','11:00','11:50'),\n",
    "       ('D','M','13:00','13:50'),\n",
    "       ('D','W','13:00','13:50'),\n",
    "       ('D','F','13:00','13:50'),\n",
    "       ('E','T','10:30','11:45'),\n",
    "       ('E','R','10:30','11:45'),\n",
    "       ('F','T','14:30','15:45'),\n",
    "       ('F','R','14:30','15:45'),\n",
    "       ('G','M','16:00','16:50'),\n",
    "       ('G','W','16:00','16:50'),\n",
    "       ('G','F','16:00','16:50'),\n",
    "       ('H','W','10:00','12:30')]\n",
    "\n",
    "sql = \"INSERT INTO `timeslot` (`time_slot_id`, `day`, `start_time`, `end_time`) VALUES (%s, %s, %s, %s)\"\n",
    "insert_data(sql, data)"
   ]
  },
  {
   "cell_type": "code",
   "execution_count": null,
   "metadata": {},
   "outputs": [],
   "source": [
    "with conn.cursor() as cursor:\n",
    "    cursor.call_proc('')\n",
    "    cursor.execute('call ..')\n",
    "    \n"
   ]
  }
 ],
 "metadata": {
  "anaconda-cloud": {},
  "kernelspec": {
   "display_name": "Python [conda root]",
   "language": "python",
   "name": "conda-root-py"
  },
  "language_info": {
   "codemirror_mode": {
    "name": "ipython",
    "version": 2
   },
   "file_extension": ".py",
   "mimetype": "text/x-python",
   "name": "python",
   "nbconvert_exporter": "python",
   "pygments_lexer": "ipython2",
   "version": "2.7.11"
  }
 },
 "nbformat": 4,
 "nbformat_minor": 2
}
