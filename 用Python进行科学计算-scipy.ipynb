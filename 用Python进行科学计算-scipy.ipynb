{
 "cells": [
  {
   "cell_type": "markdown",
   "metadata": {
    "deletable": true,
    "editable": true,
    "nbpresent": {
     "id": "44b22298-28b2-4774-a290-c6f23e79c3ba"
    }
   },
   "source": [
    "### 导入需要用到的库\n",
    "- 执行magic命令'%matplotlib inline'后，绘图将直接呈现在notebook中\n",
    "- 导入scipy库\n",
    "- 导入matplotlib.pyplot和numpy两个库"
   ]
  },
  {
   "cell_type": "code",
   "execution_count": 1,
   "metadata": {
    "collapsed": false,
    "deletable": true,
    "editable": true,
    "nbpresent": {
     "id": "fba9fecc-621a-4541-b725-28d0001afc75"
    }
   },
   "outputs": [],
   "source": [
    "%matplotlib inline\n",
    "from scipy import optimize\n",
    "import matplotlib.pyplot as pl\n",
    "import numpy as np"
   ]
  },
  {
   "cell_type": "markdown",
   "metadata": {
    "deletable": true,
    "editable": true
   },
   "source": [
    "### 1. [Optimize](https://docs.scipy.org/doc/scipy/reference/optimize.html)\n",
    "\n",
    "scipy.optimize提供了一些通用的优化算法。可以通过\n",
    "```python\n",
    "from scipy import optimize\n",
    "```\n",
    "导入. 该模块主要包括:\n",
    "\n",
    "1. Unconstrained and constrained minimization of multivariate scalar functions (<u>minimize</u>) using a variety of algorithms (e.g. <u>BFGS, Nelder-Mead simplex, Newton Conjugate Gradient, COBYLA or SLSQP</u>)\n",
    "2. Global (brute-force) optimization routines (e.g. <u>basinhopping, differential_evolution</u>)\n",
    "3. Least-squares minimization (<u>least_squares</u>) and curve fitting (<u>curve_fit</u>) algorithms\n",
    "4. Scalar univariate functions minimizers (<u>minimize_scalar</u>) and root finders (<u>newton</u>)\n",
    "5. Multivariate equation system solvers (<u>root</u>) using a variety of algorithms (e.g. <u>hybrid Powell, Levenberg-Marquardt or large-scale methods such as Newton-Krylov</u>)."
   ]
  },
  {
   "cell_type": "markdown",
   "metadata": {
    "deletable": true,
    "editable": true,
    "nbpresent": {
     "id": "92e1744d-8acd-4037-8564-d6236b38861f"
    }
   },
   "source": [
    "### 1.1 [minimize](https://docs.scipy.org/doc/scipy/reference/generated/scipy.optimize.minimize.html#scipy.optimize.minimize)\n",
    "\n",
    "*示例*\n",
    "\n",
    "定义函数ROSENBROCK函数\n",
    "$f(x)=\\sum_{i=1}^{N-1}100(x_i-x_{i-1}^2)^2+(1-x_{i-1})^2$\n",
    "\n",
    "以下例子计算$[x_1,x_2,x_3,x_4,x_5]$对应的最小值。"
   ]
  },
  {
   "cell_type": "code",
   "execution_count": 2,
   "metadata": {
    "collapsed": false,
    "deletable": true,
    "editable": true,
    "nbpresent": {
     "id": "c63fbca2-c23d-41f1-9e99-ea2ebc8a4391"
    }
   },
   "outputs": [],
   "source": [
    "def rosen(x):\n",
    "    return np.sum(100.0*(x[1:]-x[:-1]**2.0)**2.0 + (1-x[:-1])**2.0)"
   ]
  },
  {
   "cell_type": "code",
   "execution_count": 3,
   "metadata": {
    "collapsed": false,
    "deletable": true,
    "editable": true
   },
   "outputs": [
    {
     "name": "stdout",
     "output_type": "stream",
     "text": [
      "Optimization terminated successfully.\n",
      "         Current function value: 0.000000\n",
      "         Iterations: 745\n",
      "         Function evaluations: 1184\n"
     ]
    }
   ],
   "source": [
    "x0 = np.array([1.3, 0.7, 0.8, 1.9, 1.2, 2.0])\n",
    "try:\n",
    "    res = optimize.minimize(rosen,x0,method='nelder-mead',options={'xtol':1e-10, 'disp':True})\n",
    "except Exceptions,e:\n",
    "    print e"
   ]
  },
  {
   "cell_type": "markdown",
   "metadata": {
    "deletable": true,
    "editable": true
   },
   "source": [
    "- 获取达到最小值对应的x值"
   ]
  },
  {
   "cell_type": "code",
   "execution_count": 26,
   "metadata": {
    "collapsed": false,
    "deletable": true,
    "editable": true
   },
   "outputs": [
    {
     "data": {
      "text/plain": [
       "array([ 1.,  1.,  1.,  1.,  1.,  1.])"
      ]
     },
     "execution_count": 26,
     "metadata": {},
     "output_type": "execute_result"
    }
   ],
   "source": [
    "res.x"
   ]
  },
  {
   "cell_type": "code",
   "execution_count": 27,
   "metadata": {
    "collapsed": false,
    "deletable": true,
    "editable": true
   },
   "outputs": [
    {
     "data": {
      "text/plain": [
       "1.1155705697771878e-21"
      ]
     },
     "execution_count": 27,
     "metadata": {},
     "output_type": "execute_result"
    }
   ],
   "source": [
    "res.fun"
   ]
  },
  {
   "cell_type": "markdown",
   "metadata": {
    "deletable": true,
    "editable": true
   },
   "source": [
    "### 1.2 [最小二乘拟合](https://docs.scipy.org/doc/scipy/reference/generated/scipy.optimize.leastsq.html#scipy.optimize.leastsq)\n",
    "\n",
    "假设有一组实验数据$(x[i],y[i])$，我们知道它们之间的函数关系:$y = f(x)$，通过这些已知信息，需要确定函数中的一些参数项。例如，如果f是一个线型函数$f(x)=k\\cdot x+b$，那么参数k和b就是我们需要确定的值。如果将这些参数用p表示的话，那么我们就是要找到一组p值使得如下公式中的S函数最小:\n",
    "$$S(p)=\\sum_{i=1}^m[y_i-f(x_i,p)]^2$$\n",
    "scipy中的子函数库optimize已经提供了实现最小二乘拟合算法的函数leastsq。可以通过：\n",
    "```python\n",
    "from scipy.optimize import leastsq\n",
    "```\n",
    "导入。\n"
   ]
  },
  {
   "cell_type": "code",
   "execution_count": 4,
   "metadata": {
    "collapsed": true,
    "deletable": true,
    "editable": true
   },
   "outputs": [],
   "source": [
    "from scipy.optimize import leastsq\n",
    "\n",
    "def func(x, p): #数据拟合所用的函数: A*sin(2*pi*k*x + theta)\n",
    "    A, k, theta = p\n",
    "    return A*np.sin(2*np.pi*k*x+theta)\n",
    "\n",
    "def residuals(p, y, x): #实验数据x, y和拟合函数之间的差，p为拟合需要找到的系数\n",
    "    return y - func(x, p)"
   ]
  },
  {
   "cell_type": "code",
   "execution_count": 5,
   "metadata": {
    "collapsed": true,
    "deletable": true,
    "editable": true
   },
   "outputs": [],
   "source": [
    "x = np.linspace(0, -2*np.pi, 100)\n",
    "A,k,theta = 10,0.34,np.pi/6 # 真实数据的函数参数\n",
    "y0 = func(x,[A,k,theta]) # 真实数据\n",
    "y1 = y0 + 2*np.random.randn(len(x)) # 加入噪声之后的实验数据\n",
    "p0 = [7, 0.2, 0] # 随意给定的初始参数值"
   ]
  },
  {
   "cell_type": "code",
   "execution_count": 6,
   "metadata": {
    "collapsed": true,
    "deletable": true,
    "editable": true
   },
   "outputs": [],
   "source": [
    "plsq = leastsq(residuals, p0, args=(y1, x))"
   ]
  },
  {
   "cell_type": "code",
   "execution_count": 7,
   "metadata": {
    "collapsed": false,
    "deletable": true,
    "editable": true
   },
   "outputs": [
    {
     "name": "stdout",
     "output_type": "stream",
     "text": [
      "真实参数: [10, 0.34, 0.5235987755982988]\n",
      "拟合参数 [ 10.12632246   0.34334728   0.58863895]\n"
     ]
    }
   ],
   "source": [
    "print \"真实参数:\", [A, k, theta]\n",
    "print \"拟合参数\", plsq[0] # 实验数据拟合后的参数"
   ]
  },
  {
   "cell_type": "code",
   "execution_count": 8,
   "metadata": {
    "collapsed": false,
    "deletable": true,
    "editable": true
   },
   "outputs": [
    {
     "data": {
      "text/plain": [
       "<matplotlib.legend.Legend at 0x10ce2d650>"
      ]
     },
     "execution_count": 8,
     "metadata": {},
     "output_type": "execute_result"
    },
    {
     "data": {
      "image/png": "[encoded data removed]",
      "text/plain": [
       "<matplotlib.figure.Figure at 0x1148abc90>"
      ]
     },
     "metadata": {},
     "output_type": "display_data"
    }
   ],
   "source": [
    "pl.xlabel('X')\n",
    "pl.ylabel('Y')\n",
    "pl.plot(x, y0, label=\"True data\")\n",
    "pl.scatter(x, y1, color='b', alpha=0.5, label=\"Date with noise\") \n",
    "pl.plot(x, func(x, plsq[0]),  label=\"Fitted data\") \n",
    "pl.legend()"
   ]
  },
  {
   "cell_type": "markdown",
   "metadata": {
    "deletable": true,
    "editable": true
   },
   "source": [
    "### 2. 非线性方程组求解\n",
    "\n",
    "optimize库中的fsolve函数可以用来对非线性方程组进行求解。可通过\n",
    "```python\n",
    "from scipy.optimize import fsolve\n",
    "```\n",
    "导入。它的基本调用形式如下:\n",
    "```python\n",
    "fsolve(func, x0)\n",
    "```\n",
    "其中，func是计算方程组误差的函数，它的参数x是一个矢量，表示方程组的各个未知数的一组可能解，func返回将x代入方程组之后得到的误差;x0为未知数矢量的初始值。如果要对如下方程组进行求解的话:\n",
    "$$\\begin{align}\n",
    "    f_1(u_1,u_2,u_3)&=0\\\\\n",
    "    f_2(u_1,u_2,u_3)&=0\\\\\n",
    "    f_3(u_1,u_2,u_3)&=0\n",
    "  \\end{align}$$\n",
    "那么func可以如下定义:\n",
    "```python\n",
    "def func(x):\n",
    "    u1,u2,u3=x\n",
    "    return [f1(u1,u2,u3), f2(u1,u2,u3), f3(u1,u2,u3)]\n",
    "```"
   ]
  },
  {
   "cell_type": "markdown",
   "metadata": {
    "deletable": true,
    "editable": true
   },
   "source": [
    "下面是一个实际的例子，求解如下方程组的解:\n",
    "$$\\begin{align}\n",
    " 5x_1+3&=0\\\\\n",
    " 4x_0^2-2\\sin(x_1x_2)&=0\\\\\n",
    " x_1x_2-1.5&=0\n",
    "\\end{align}$$"
   ]
  },
  {
   "cell_type": "code",
   "execution_count": 43,
   "metadata": {
    "collapsed": true,
    "deletable": true,
    "editable": true
   },
   "outputs": [],
   "source": [
    "from scipy.optimize import fsolve"
   ]
  },
  {
   "cell_type": "code",
   "execution_count": 44,
   "metadata": {
    "collapsed": true,
    "deletable": true,
    "editable": true
   },
   "outputs": [],
   "source": [
    "def f(x):\n",
    "    x0 = float(x[0]) #将数组中的元素转化为对应python中的浮点数\n",
    "    x1 = float(x[1])\n",
    "    x2 = float(x[2])\n",
    "    return [5*x1+3, 4*x0*x0 - 2*np.sin(x1*x2), x1*x2 - 1.5]"
   ]
  },
  {
   "cell_type": "code",
   "execution_count": 45,
   "metadata": {
    "collapsed": true,
    "deletable": true,
    "editable": true
   },
   "outputs": [],
   "source": [
    "result = fsolve(f, [1,1,1])"
   ]
  },
  {
   "cell_type": "code",
   "execution_count": 46,
   "metadata": {
    "collapsed": false,
    "deletable": true,
    "editable": true
   },
   "outputs": [
    {
     "name": "stdout",
     "output_type": "stream",
     "text": [
      "[-0.70622057 -0.6        -2.5       ]\n"
     ]
    }
   ],
   "source": [
    "print result"
   ]
  },
  {
   "cell_type": "code",
   "execution_count": 47,
   "metadata": {
    "collapsed": false,
    "deletable": true,
    "editable": true
   },
   "outputs": [
    {
     "name": "stdout",
     "output_type": "stream",
     "text": [
      "[0.0, -9.1260332624187868e-14, 5.329070518200751e-15]\n"
     ]
    }
   ],
   "source": [
    "print f(result)"
   ]
  },
  {
   "cell_type": "markdown",
   "metadata": {
    "deletable": true,
    "editable": true
   },
   "source": [
    "在对方程组进行求解时，fsolve会自动计算方程组的雅可比矩阵，如果方程组中的未知数很多，而与每 个方程有关的未知数较少时，即雅可比矩阵比较稀疏时，传递一个计算雅可比矩阵的函数将能大幅度 提高运算速度。可以传递给fsovle对应func的雅可比矩阵：\n",
    "$$\\left[ \\begin{matrix}\n",
    "\\frac{\\partial f_1}{\\partial u_1} & \\frac{\\partial f_1}{\\partial u_2} & \\frac{\\partial f_1}{\\partial u_3} \\\\\n",
    "\\frac{\\partial f_2}{\\partial u_1} & \\frac{\\partial f_2}{\\partial u_2} & \\frac{\\partial f_2}{\\partial u_3} \\\\\n",
    "\\frac{\\partial f_3}{\\partial u_1} & \\frac{\\partial f_3}{\\partial u_2} & \\frac{\\partial f_3}{\\partial u_3}\n",
    "\\end{matrix} \\right]$$\n",
    "加快求解速度。"
   ]
  },
  {
   "cell_type": "code",
   "execution_count": 53,
   "metadata": {
    "collapsed": true,
    "deletable": true,
    "editable": true
   },
   "outputs": [],
   "source": [
    "def j(x):\n",
    "    x0 = float(x[0])\n",
    "    x1 = float(x[1])\n",
    "    x2 = float(x[2])\n",
    "    return [(0,5,0), (8*x0,-2*x2*np.cos(x1*x2),-2*x1*np.cos(x1*x2)), (0, x2, x1)]"
   ]
  },
  {
   "cell_type": "code",
   "execution_count": 54,
   "metadata": {
    "collapsed": false,
    "deletable": true,
    "editable": true
   },
   "outputs": [],
   "source": [
    "result = fsolve(f, [1,1,1], fprime=j)"
   ]
  },
  {
   "cell_type": "code",
   "execution_count": 55,
   "metadata": {
    "collapsed": false,
    "deletable": true,
    "editable": true
   },
   "outputs": [
    {
     "data": {
      "text/plain": [
       "array([-0.70622057, -0.6       , -2.5       ])"
      ]
     },
     "execution_count": 55,
     "metadata": {},
     "output_type": "execute_result"
    }
   ],
   "source": [
    "result"
   ]
  },
  {
   "cell_type": "code",
   "execution_count": 56,
   "metadata": {
    "collapsed": false,
    "deletable": true,
    "editable": true
   },
   "outputs": [
    {
     "data": {
      "text/plain": [
       "[0.0, -9.1260332624187868e-14, 5.329070518200751e-15]"
      ]
     },
     "execution_count": 56,
     "metadata": {},
     "output_type": "execute_result"
    }
   ],
   "source": [
    "f(result)"
   ]
  },
  {
   "cell_type": "markdown",
   "metadata": {
    "deletable": true,
    "editable": true
   },
   "source": [
    "### 3. 数值积分\n",
    "\n",
    "```python\n",
    "from scipy import integrate\n",
    "```\n",
    "\n",
    "数值积分是对定积分的数值求解，例如可以利用数值积分计算某个形状的面积。下面让我们来考虑一下如何计算半径为1的半圆的面积，根据圆的面积公式，其面积应该等于$\\frac{\\pi}{2}$。单位半圆曲线可以用下面的函数表示:"
   ]
  },
  {
   "cell_type": "code",
   "execution_count": 60,
   "metadata": {
    "collapsed": true,
    "deletable": true,
    "editable": true
   },
   "outputs": [],
   "source": [
    "from scipy import integrate"
   ]
  },
  {
   "cell_type": "code",
   "execution_count": 57,
   "metadata": {
    "collapsed": true,
    "deletable": true,
    "editable": true
   },
   "outputs": [],
   "source": [
    "def half_circle(x):\n",
    "    return (1-x**2)**0.5"
   ]
  },
  {
   "cell_type": "markdown",
   "metadata": {
    "deletable": true,
    "editable": true
   },
   "source": [
    "下面的程序使用经典的分小矩形计算面积总和的方式，计算出单位半圆的面积"
   ]
  },
  {
   "cell_type": "code",
   "execution_count": 58,
   "metadata": {
    "collapsed": false,
    "deletable": true,
    "editable": true
   },
   "outputs": [
    {
     "name": "stdout",
     "output_type": "stream",
     "text": [
      "3.141275168\n"
     ]
    }
   ],
   "source": [
    "N = 10000\n",
    "x = np.linspace(-1, 1, N)\n",
    "dx = 2.0/N\n",
    "y = half_circle(x)\n",
    "print dx * np.sum(y[:-1] + y[1:]) # 面积的两倍"
   ]
  },
  {
   "cell_type": "markdown",
   "metadata": {
    "deletable": true,
    "editable": true
   },
   "source": [
    "可以使用scipy.integrate库中的quad函数的话，将会得到非常精确的结果："
   ]
  },
  {
   "cell_type": "code",
   "execution_count": 61,
   "metadata": {
    "collapsed": true,
    "deletable": true,
    "editable": true
   },
   "outputs": [],
   "source": [
    "pi_half, err = integrate.quad(half_circle, -1, 1)"
   ]
  },
  {
   "cell_type": "code",
   "execution_count": 63,
   "metadata": {
    "collapsed": false,
    "deletable": true,
    "editable": true
   },
   "outputs": [
    {
     "data": {
      "text/plain": [
       "3.1415926535897967"
      ]
     },
     "execution_count": 63,
     "metadata": {},
     "output_type": "execute_result"
    }
   ],
   "source": [
    "pi_half*2"
   ]
  },
  {
   "cell_type": "markdown",
   "metadata": {
    "deletable": true,
    "editable": true
   },
   "source": [
    "多重定积分的求值可以通过多次调用quad函数实现，为了调用方便，integrate库提供了dblquad函数进行二重定积分，tplquad函数进行三重定积分。下面以计算单位半球体积为例说明dblquad函数的用法。单位半球上的点(x,y,z)符合如下方程:\n",
    "$$\n",
    "x^2+y^2+z^2=1\n",
    "$$\n",
    "因此可以如下定义通过(x,y)坐标计算球面上点的z值的函数:"
   ]
  },
  {
   "cell_type": "code",
   "execution_count": 64,
   "metadata": {
    "collapsed": true,
    "deletable": true,
    "editable": true
   },
   "outputs": [],
   "source": [
    "def half_sphere(x, y):\n",
    "    return (1-x**2-y**2)**0.5"
   ]
  },
  {
   "cell_type": "code",
   "execution_count": 65,
   "metadata": {
    "collapsed": false,
    "deletable": true,
    "editable": true
   },
   "outputs": [
    {
     "data": {
      "text/plain": [
       "(2.0943951023931984, 1.0002354500215915e-09)"
      ]
     },
     "execution_count": 65,
     "metadata": {},
     "output_type": "execute_result"
    }
   ],
   "source": [
    "integrate.dblquad(half_sphere, -1, 1,lambda x:-half_circle(x),lambda x:half_circle(x))"
   ]
  },
  {
   "cell_type": "code",
   "execution_count": 67,
   "metadata": {
    "collapsed": false,
    "deletable": true,
    "editable": true
   },
   "outputs": [
    {
     "name": "stdout",
     "output_type": "stream",
     "text": [
      "利用球体积公式计算得出： 2.09439510239\n"
     ]
    }
   ],
   "source": [
    "print '利用球体积公式计算得出：',np.pi*4/3/2"
   ]
  },
  {
   "cell_type": "markdown",
   "metadata": {
    "deletable": true,
    "editable": true
   },
   "source": [
    "### 4. Statistical functions\n",
    "- rv_continuous\n",
    "- rv_discrete"
   ]
  },
  {
   "cell_type": "code",
   "execution_count": null,
   "metadata": {
    "collapsed": true,
    "deletable": true,
    "editable": true
   },
   "outputs": [],
   "source": []
  }
 ],
 "metadata": {
  "anaconda-cloud": {},
  "kernelspec": {
   "display_name": "Python [conda root]",
   "language": "python",
   "name": "conda-root-py"
  },
  "language_info": {
   "codemirror_mode": {
    "name": "ipython",
    "version": 2
   },
   "file_extension": ".py",
   "mimetype": "text/x-python",
   "name": "python",
   "nbconvert_exporter": "python",
   "pygments_lexer": "ipython2",
   "version": "2.7.13"
  },
  "nbpresent": {
   "slides": {
    "10b9b233-92f7-4f3a-b22e-844d183fb3c6": {
     "id": "10b9b233-92f7-4f3a-b22e-844d183fb3c6",
     "prev": "845546b3-b324-4866-a7ea-78a3c0f3de2f",
     "regions": {
      "12095496-1518-41d2-9c0f-1713bc5ed960": {
       "attrs": {
        "height": 0.8,
        "width": 0.8,
        "x": 0.1,
        "y": 0.1
       },
       "content": {
        "cell": "eec3def5-5ccf-4a9f-a047-90548c09de57",
        "part": "whole"
       },
       "id": "12095496-1518-41d2-9c0f-1713bc5ed960"
      }
     }
    },
    "11b1d8b3-19ce-4f14-9dd2-86c9331950b1": {
     "id": "11b1d8b3-19ce-4f14-9dd2-86c9331950b1",
     "prev": "efa06682-95b6-49a2-a6c0-c57d740d8e06",
     "regions": {
      "346e4ec3-838f-48bb-9128-efc3e0972fe1": {
       "attrs": {
        "height": 0.8,
        "width": 0.8,
        "x": 0.1,
        "y": 0.1
       },
       "content": {
        "cell": "46833460-5efb-428d-bc60-a84d427105f4",
        "part": "whole"
       },
       "id": "346e4ec3-838f-48bb-9128-efc3e0972fe1"
      }
     }
    },
    "12c358a7-e722-497e-9d27-2a13b17e2dfc": {
     "id": "12c358a7-e722-497e-9d27-2a13b17e2dfc",
     "prev": "826f6189-22c8-4f6b-92f4-8837fd1e5f39",
     "regions": {
      "65ccc499-0819-44e1-9e04-2c54787a3e8c": {
       "attrs": {
        "height": 0.8,
        "width": 0.8,
        "x": 0.1,
        "y": 0.1
       },
       "content": {
        "cell": "429b7605-eff5-4bfa-986b-d66814767dd6",
        "part": "whole"
       },
       "id": "65ccc499-0819-44e1-9e04-2c54787a3e8c"
      }
     }
    },
    "1792438c-d113-4d80-8bfc-d3d25fae34a5": {
     "id": "1792438c-d113-4d80-8bfc-d3d25fae34a5",
     "prev": "e6b126c4-be72-41e8-b93b-82c4a3861eb3",
     "regions": {
      "b4cf25c1-6e7e-4bcd-a538-4848047b3099": {
       "attrs": {
        "height": 0.8,
        "width": 0.8,
        "x": 0.1,
        "y": 0.1
       },
       "content": {
        "cell": "fea847a6-339c-4f63-bc46-2487a5ad7f35",
        "part": "whole"
       },
       "id": "b4cf25c1-6e7e-4bcd-a538-4848047b3099"
      }
     }
    },
    "4dc8559c-d26a-44bb-9220-95a650e6e9b6": {
     "id": "4dc8559c-d26a-44bb-9220-95a650e6e9b6",
     "prev": "f1bdb37f-f94d-4bea-90f0-ad8d7b421797",
     "regions": {
      "8b866b07-0263-4f77-aeb3-fb51bf05aa6c": {
       "attrs": {
        "height": 0.8,
        "width": 0.8,
        "x": 0.1,
        "y": 0.1
       },
       "content": {
        "cell": "9657286e-0e81-4ce1-8b22-b58c880ac75e",
        "part": "whole"
       },
       "id": "8b866b07-0263-4f77-aeb3-fb51bf05aa6c"
      }
     }
    },
    "513994d5-1b0b-4e09-ae5a-154db8169011": {
     "id": "513994d5-1b0b-4e09-ae5a-154db8169011",
     "prev": "ed538faf-93dc-411e-956c-ce2f9213f3a8",
     "regions": {
      "f50c00b3-14de-41f5-bc40-460a62b84746": {
       "attrs": {
        "height": 0.8,
        "width": 0.8,
        "x": 0.1,
        "y": 0.1
       },
       "content": {
        "cell": "731182a0-8357-4e71-921c-7e1f9f22677b",
        "part": "whole"
       },
       "id": "f50c00b3-14de-41f5-bc40-460a62b84746"
      }
     }
    },
    "53234c70-9612-4393-9f8a-f9b0d43e164e": {
     "id": "53234c70-9612-4393-9f8a-f9b0d43e164e",
     "prev": "591bde4d-16f7-4ca8-9ea9-399821c4535d",
     "regions": {
      "44adc3a3-95b7-4743-85b3-8336c7ea2dd6": {
       "attrs": {
        "height": 0.8,
        "width": 0.8,
        "x": 0.1,
        "y": 0.1
       },
       "content": {
        "cell": "11ecbc3c-4c96-4e53-b783-f44d7e830ec0",
        "part": "whole"
       },
       "id": "44adc3a3-95b7-4743-85b3-8336c7ea2dd6"
      }
     }
    },
    "58feefba-36db-4334-a18d-809dd9ea3c59": {
     "id": "58feefba-36db-4334-a18d-809dd9ea3c59",
     "prev": "4dc8559c-d26a-44bb-9220-95a650e6e9b6",
     "regions": {
      "45a43f56-bd30-4163-ab44-fd09fbcc6b13": {
       "attrs": {
        "height": 0.8,
        "width": 0.8,
        "x": 0.1,
        "y": 0.1
       },
       "content": {
        "cell": "df8c39fa-c30f-4bde-9b8c-6c047e450bb0",
        "part": "whole"
       },
       "id": "45a43f56-bd30-4163-ab44-fd09fbcc6b13"
      }
     }
    },
    "591bde4d-16f7-4ca8-9ea9-399821c4535d": {
     "id": "591bde4d-16f7-4ca8-9ea9-399821c4535d",
     "prev": "a6503cbe-3ad0-4076-9828-8e098b332d61",
     "regions": {
      "653d23c9-4709-4e60-8493-4978a6c4727c": {
       "attrs": {
        "height": 0.8,
        "width": 0.8,
        "x": 0.1,
        "y": 0.1
       },
       "content": {
        "cell": "d846a40a-d1ac-41ad-b55e-56a961c93859",
        "part": "whole"
       },
       "id": "653d23c9-4709-4e60-8493-4978a6c4727c"
      }
     }
    },
    "686f637a-3ee7-4248-adc3-031e09020cce": {
     "id": "686f637a-3ee7-4248-adc3-031e09020cce",
     "prev": "eec38978-93e2-4708-97af-d15bce7a20f2",
     "regions": {
      "a55f7d24-257e-4815-a26a-74d07861b015": {
       "attrs": {
        "height": 0.8,
        "width": 0.8,
        "x": 0.1,
        "y": 0.1
       },
       "content": {
        "cell": "c012daa8-0f6f-461f-a426-69d3322b392a",
        "part": "whole"
       },
       "id": "a55f7d24-257e-4815-a26a-74d07861b015"
      }
     }
    },
    "6c38e131-ce77-4f1a-8eec-5ac5768d935f": {
     "id": "6c38e131-ce77-4f1a-8eec-5ac5768d935f",
     "prev": null,
     "regions": {
      "a100671b-bf0b-467b-8fdf-946bd3a593c0": {
       "attrs": {
        "height": 0.8,
        "width": 0.8,
        "x": 0.1,
        "y": 0.1
       },
       "content": {
        "cell": "44b22298-28b2-4774-a290-c6f23e79c3ba",
        "part": "whole"
       },
       "id": "a100671b-bf0b-467b-8fdf-946bd3a593c0"
      }
     }
    },
    "726acd7b-8cba-4ccd-a495-0370597d9c95": {
     "id": "726acd7b-8cba-4ccd-a495-0370597d9c95",
     "prev": "c09d75eb-2e5c-43ae-8666-bf5f01777e96",
     "regions": {
      "86fa7b5d-ebf4-4a70-9f62-1e5134eafb50": {
       "attrs": {
        "height": 0.8,
        "width": 0.8,
        "x": 0.1,
        "y": 0.1
       },
       "content": {
        "cell": "5312499a-12d7-4649-8505-93ad90b801ea",
        "part": "whole"
       },
       "id": "86fa7b5d-ebf4-4a70-9f62-1e5134eafb50"
      }
     }
    },
    "826f6189-22c8-4f6b-92f4-8837fd1e5f39": {
     "id": "826f6189-22c8-4f6b-92f4-8837fd1e5f39",
     "prev": "fe270581-559b-491f-b1d0-be801c047e6b",
     "regions": {
      "f7fadc2d-c9b6-42e6-bddd-a71da7d28754": {
       "attrs": {
        "height": 0.8,
        "width": 0.8,
        "x": 0.1,
        "y": 0.1
       },
       "content": {
        "cell": "b076b6d0-b667-4fc3-8418-0c45fc2aa0e5",
        "part": "whole"
       },
       "id": "f7fadc2d-c9b6-42e6-bddd-a71da7d28754"
      }
     }
    },
    "84434314-7c40-41f8-ba0c-f7f9427ada17": {
     "id": "84434314-7c40-41f8-ba0c-f7f9427ada17",
     "prev": "bd33635e-e50c-41d2-8528-5c389a411a88",
     "regions": {
      "28e37202-55c4-4f00-a5e6-2743f215316f": {
       "attrs": {
        "height": 0.8,
        "width": 0.8,
        "x": 0.1,
        "y": 0.1
       },
       "content": {
        "cell": "e85aa24f-0b15-4d38-81ad-2ec4bba02f23",
        "part": "whole"
       },
       "id": "28e37202-55c4-4f00-a5e6-2743f215316f"
      }
     }
    },
    "845546b3-b324-4866-a7ea-78a3c0f3de2f": {
     "id": "845546b3-b324-4866-a7ea-78a3c0f3de2f",
     "prev": "eab58c71-28b0-4668-b727-3dcec9b38de8",
     "regions": {
      "7c8b33d3-043f-4c3a-8205-53e935230b74": {
       "attrs": {
        "height": 0.8,
        "width": 0.8,
        "x": 0.1,
        "y": 0.1
       },
       "content": {
        "cell": "2222248b-8b99-45bc-84f8-1f368ba0fe14",
        "part": "whole"
       },
       "id": "7c8b33d3-043f-4c3a-8205-53e935230b74"
      }
     }
    },
    "8a61cad1-cdc9-4c06-91a9-b49e11704f78": {
     "id": "8a61cad1-cdc9-4c06-91a9-b49e11704f78",
     "prev": "8bbce565-0a09-4f67-98be-04acdac51c37",
     "regions": {
      "d3527cdc-9b5c-4081-960a-a5c1ac7e1ca1": {
       "attrs": {
        "height": 0.8,
        "width": 0.8,
        "x": 0.1,
        "y": 0.1
       },
       "content": {
        "cell": "a7ac3682-737e-4c8f-a9eb-83f9c8a1d5d1",
        "part": "whole"
       },
       "id": "d3527cdc-9b5c-4081-960a-a5c1ac7e1ca1"
      }
     }
    },
    "8bbce565-0a09-4f67-98be-04acdac51c37": {
     "id": "8bbce565-0a09-4f67-98be-04acdac51c37",
     "prev": "11b1d8b3-19ce-4f14-9dd2-86c9331950b1",
     "regions": {
      "688d0fa4-5a56-4a5c-bb9d-ece02c74944c": {
       "attrs": {
        "height": 0.8,
        "width": 0.8,
        "x": 0.1,
        "y": 0.1
       },
       "content": {
        "cell": "ddc39d16-d028-4906-81de-665a80912714",
        "part": "whole"
       },
       "id": "688d0fa4-5a56-4a5c-bb9d-ece02c74944c"
      }
     }
    },
    "8e89080a-b178-48e8-a5e3-900bd130e7cf": {
     "id": "8e89080a-b178-48e8-a5e3-900bd130e7cf",
     "prev": "10b9b233-92f7-4f3a-b22e-844d183fb3c6",
     "regions": {
      "0a3018f9-e26f-4eed-bfdb-973aee6b029f": {
       "attrs": {
        "height": 0.8,
        "width": 0.8,
        "x": 0.1,
        "y": 0.1
       },
       "content": {
        "cell": "de98fc94-ed9a-4089-ba75-08f31292138c",
        "part": "whole"
       },
       "id": "0a3018f9-e26f-4eed-bfdb-973aee6b029f"
      }
     }
    },
    "97a2a47a-486c-43e6-a382-9f063117c364": {
     "id": "97a2a47a-486c-43e6-a382-9f063117c364",
     "prev": "d8d26230-a904-4e88-9f3d-f2ae94c525da",
     "regions": {
      "6def3ebe-b388-4719-9914-37fcaf0258f3": {
       "attrs": {
        "height": 0.8,
        "width": 0.8,
        "x": 0.1,
        "y": 0.1
       },
       "content": {
        "cell": "bd45e1d9-7c97-4d5a-a276-744f9408a8aa",
        "part": "whole"
       },
       "id": "6def3ebe-b388-4719-9914-37fcaf0258f3"
      }
     }
    },
    "98255ec5-3cb3-4a71-a084-8600d6e34176": {
     "id": "98255ec5-3cb3-4a71-a084-8600d6e34176",
     "prev": "c51029d2-198d-4dda-b6ae-4cdabcf90777",
     "regions": {
      "35d72a7b-c9b6-4edc-8720-a8c7eaf960f5": {
       "attrs": {
        "height": 0.8,
        "width": 0.8,
        "x": 0.1,
        "y": 0.1
       },
       "content": {
        "cell": "7badc207-333c-4ab4-9050-4429e244f69c",
        "part": "whole"
       },
       "id": "35d72a7b-c9b6-4edc-8720-a8c7eaf960f5"
      }
     }
    },
    "a6503cbe-3ad0-4076-9828-8e098b332d61": {
     "id": "a6503cbe-3ad0-4076-9828-8e098b332d61",
     "prev": "8e89080a-b178-48e8-a5e3-900bd130e7cf",
     "regions": {
      "1d4cdc0d-9937-4697-9c57-9c2471e0ba60": {
       "attrs": {
        "height": 0.8,
        "width": 0.8,
        "x": 0.1,
        "y": 0.1
       },
       "content": {
        "cell": "9766fc4f-42f7-4cb2-8cff-2b385dee40fe",
        "part": "whole"
       },
       "id": "1d4cdc0d-9937-4697-9c57-9c2471e0ba60"
      }
     }
    },
    "b5b5affd-0101-4658-8d05-611e2ba43227": {
     "id": "b5b5affd-0101-4658-8d05-611e2ba43227",
     "prev": "f7249619-f013-48fb-a541-6fdbe2a0f98f",
     "regions": {
      "33911cee-c9a1-4388-8218-1b14f563de00": {
       "attrs": {
        "height": 0.8,
        "width": 0.8,
        "x": 0.1,
        "y": 0.1
       },
       "content": {
        "cell": "5f773d17-4636-44df-961b-01431a47f46e",
        "part": "whole"
       },
       "id": "33911cee-c9a1-4388-8218-1b14f563de00"
      }
     }
    },
    "bd33635e-e50c-41d2-8528-5c389a411a88": {
     "id": "bd33635e-e50c-41d2-8528-5c389a411a88",
     "prev": "8a61cad1-cdc9-4c06-91a9-b49e11704f78",
     "regions": {
      "d44a5aa6-eed0-44e4-ac66-64b8a293eb2d": {
       "attrs": {
        "height": 0.8,
        "width": 0.8,
        "x": 0.1,
        "y": 0.1
       },
       "content": {
        "cell": "92255438-e959-45c3-bfd7-0f5ba7bad15c",
        "part": "whole"
       },
       "id": "d44a5aa6-eed0-44e4-ac66-64b8a293eb2d"
      }
     }
    },
    "be7a451e-12d8-4b25-a410-f3226d0771db": {
     "id": "be7a451e-12d8-4b25-a410-f3226d0771db",
     "prev": "6c38e131-ce77-4f1a-8eec-5ac5768d935f",
     "regions": {
      "045cee7d-1897-4d9c-930d-aa86531ba3ea": {
       "attrs": {
        "height": 0.8,
        "width": 0.8,
        "x": 0.1,
        "y": 0.1
       },
       "content": {
        "cell": "fba9fecc-621a-4541-b725-28d0001afc75",
        "part": "whole"
       },
       "id": "045cee7d-1897-4d9c-930d-aa86531ba3ea"
      }
     }
    },
    "be7c2ab2-6056-40d4-be5b-4937b5545de0": {
     "id": "be7c2ab2-6056-40d4-be5b-4937b5545de0",
     "prev": "c3acad8f-3d38-4c3f-a105-b1b77cbb42b2",
     "regions": {
      "5ab096b7-2940-4799-84e6-c2d9a579b1e2": {
       "attrs": {
        "height": 0.8,
        "width": 0.8,
        "x": 0.1,
        "y": 0.1
       },
       "content": {
        "cell": "04b386d1-963f-4b48-9807-fb7ec8b8c3b9",
        "part": "whole"
       },
       "id": "5ab096b7-2940-4799-84e6-c2d9a579b1e2"
      }
     }
    },
    "c09d75eb-2e5c-43ae-8666-bf5f01777e96": {
     "id": "c09d75eb-2e5c-43ae-8666-bf5f01777e96",
     "prev": "1792438c-d113-4d80-8bfc-d3d25fae34a5",
     "regions": {
      "fd7dcb49-664c-441e-a9df-b1c81d299582": {
       "attrs": {
        "height": 0.8,
        "width": 0.8,
        "x": 0.1,
        "y": 0.1
       },
       "content": {
        "cell": "2b0bc708-0a9a-4f3c-a688-b8f54fc56b20",
        "part": "whole"
       },
       "id": "fd7dcb49-664c-441e-a9df-b1c81d299582"
      }
     }
    },
    "c3acad8f-3d38-4c3f-a105-b1b77cbb42b2": {
     "id": "c3acad8f-3d38-4c3f-a105-b1b77cbb42b2",
     "prev": "53234c70-9612-4393-9f8a-f9b0d43e164e",
     "regions": {
      "c4b7ba85-c7f3-4c33-b311-03f36814675b": {
       "attrs": {
        "height": 0.8,
        "width": 0.8,
        "x": 0.1,
        "y": 0.1
       },
       "content": {
        "cell": "210d8f4f-6e08-4a07-a0ca-6be81410e370",
        "part": "whole"
       },
       "id": "c4b7ba85-c7f3-4c33-b311-03f36814675b"
      }
     }
    },
    "c51029d2-198d-4dda-b6ae-4cdabcf90777": {
     "id": "c51029d2-198d-4dda-b6ae-4cdabcf90777",
     "prev": "97a2a47a-486c-43e6-a382-9f063117c364",
     "regions": {
      "f7c0b8f3-e86e-4792-9918-80d9089048ec": {
       "attrs": {
        "height": 0.8,
        "width": 0.8,
        "x": 0.1,
        "y": 0.1
       },
       "content": {
        "cell": "a3ddd1de-50e3-4726-868a-be3d712eb875",
        "part": "whole"
       },
       "id": "f7c0b8f3-e86e-4792-9918-80d9089048ec"
      }
     }
    },
    "d07ed659-fee2-4d90-a0a2-5185cd081a68": {
     "id": "d07ed659-fee2-4d90-a0a2-5185cd081a68",
     "prev": "58feefba-36db-4334-a18d-809dd9ea3c59",
     "regions": {
      "59f5b5ce-91c3-4f1f-a84e-65fd89c85f2a": {
       "attrs": {
        "height": 0.8,
        "width": 0.8,
        "x": 0.1,
        "y": 0.1
       },
       "content": {
        "cell": "d7880ec4-da42-402d-a691-cbe7ec1aa90f",
        "part": "whole"
       },
       "id": "59f5b5ce-91c3-4f1f-a84e-65fd89c85f2a"
      }
     }
    },
    "d12a44ec-89f7-43c4-8b79-619808363ed4": {
     "id": "d12a44ec-89f7-43c4-8b79-619808363ed4",
     "prev": "be7a451e-12d8-4b25-a410-f3226d0771db",
     "regions": {
      "3ce4b730-3de8-486b-b9a2-532d860905d1": {
       "attrs": {
        "height": 0.8,
        "width": 0.8,
        "x": 0.1,
        "y": 0.1
       },
       "content": {
        "cell": "92e1744d-8acd-4037-8564-d6236b38861f",
        "part": "whole"
       },
       "id": "3ce4b730-3de8-486b-b9a2-532d860905d1"
      }
     }
    },
    "d8d26230-a904-4e88-9f3d-f2ae94c525da": {
     "id": "d8d26230-a904-4e88-9f3d-f2ae94c525da",
     "prev": "513994d5-1b0b-4e09-ae5a-154db8169011",
     "regions": {
      "52a02973-6da1-478d-88ba-de9ace8fd038": {
       "attrs": {
        "height": 0.8,
        "width": 0.8,
        "x": 0.1,
        "y": 0.1
       },
       "content": {
        "cell": "8f96ccc4-f9ba-4f92-80a4-c6038e947c87",
        "part": "whole"
       },
       "id": "52a02973-6da1-478d-88ba-de9ace8fd038"
      }
     }
    },
    "d966b677-7d98-44f9-a218-8594f0553f4e": {
     "id": "d966b677-7d98-44f9-a218-8594f0553f4e",
     "prev": "b5b5affd-0101-4658-8d05-611e2ba43227",
     "regions": {
      "a90554bc-8f36-4f97-811b-563c49d4c1b1": {
       "attrs": {
        "height": 0.8,
        "width": 0.8,
        "x": 0.1,
        "y": 0.1
       },
       "content": {
        "cell": "60706132-af61-41d2-b3c5-aba8b2ff9ba9",
        "part": "whole"
       },
       "id": "a90554bc-8f36-4f97-811b-563c49d4c1b1"
      }
     }
    },
    "e1075cde-fb14-472c-973a-a65ff3f46ecb": {
     "id": "e1075cde-fb14-472c-973a-a65ff3f46ecb",
     "prev": "e8bf9d0b-cfa3-4c8a-8f20-7b3681dbb970",
     "regions": {
      "998b07ca-c585-4956-ac8f-2ebab06bc1e2": {
       "attrs": {
        "height": 0.8,
        "width": 0.8,
        "x": 0.1,
        "y": 0.1
       },
       "content": {
        "cell": "29d60923-7751-41c4-a34b-668dd9cf4e0d",
        "part": "whole"
       },
       "id": "998b07ca-c585-4956-ac8f-2ebab06bc1e2"
      }
     }
    },
    "e6b126c4-be72-41e8-b93b-82c4a3861eb3": {
     "id": "e6b126c4-be72-41e8-b93b-82c4a3861eb3",
     "prev": "d12a44ec-89f7-43c4-8b79-619808363ed4",
     "regions": {
      "de14f912-0a1c-4bd4-9a29-111b2a063d8d": {
       "attrs": {
        "height": 0.8,
        "width": 0.8,
        "x": 0.1,
        "y": 0.1
       },
       "content": {
        "cell": "c63fbca2-c23d-41f1-9e99-ea2ebc8a4391",
        "part": "whole"
       },
       "id": "de14f912-0a1c-4bd4-9a29-111b2a063d8d"
      }
     }
    },
    "e8bf9d0b-cfa3-4c8a-8f20-7b3681dbb970": {
     "id": "e8bf9d0b-cfa3-4c8a-8f20-7b3681dbb970",
     "prev": "726acd7b-8cba-4ccd-a495-0370597d9c95",
     "regions": {
      "f3d62e68-dee2-4108-9a12-b69c3e19e2f1": {
       "attrs": {
        "height": 0.8,
        "width": 0.8,
        "x": 0.1,
        "y": 0.1
       },
       "content": {
        "cell": "23b75ff9-7075-48fa-84cf-5323e010d0e6",
        "part": "whole"
       },
       "id": "f3d62e68-dee2-4108-9a12-b69c3e19e2f1"
      }
     }
    },
    "eab58c71-28b0-4668-b727-3dcec9b38de8": {
     "id": "eab58c71-28b0-4668-b727-3dcec9b38de8",
     "prev": "d966b677-7d98-44f9-a218-8594f0553f4e",
     "regions": {
      "e56d2ae9-cc2b-4aec-82b5-4ab3a49f0c3b": {
       "attrs": {
        "height": 0.8,
        "width": 0.8,
        "x": 0.1,
        "y": 0.1
       },
       "content": {
        "cell": "fb125f43-5295-4a68-987e-30a287276863",
        "part": "whole"
       },
       "id": "e56d2ae9-cc2b-4aec-82b5-4ab3a49f0c3b"
      }
     }
    },
    "ed538faf-93dc-411e-956c-ce2f9213f3a8": {
     "id": "ed538faf-93dc-411e-956c-ce2f9213f3a8",
     "prev": "686f637a-3ee7-4248-adc3-031e09020cce",
     "regions": {
      "642f6513-4e1a-446f-b3b8-d1d1d00275a3": {
       "attrs": {
        "height": 0.8,
        "width": 0.8,
        "x": 0.1,
        "y": 0.1
       },
       "content": {
        "cell": "d43a4ce5-aeaa-4ff5-97f6-188457418fa2",
        "part": "whole"
       },
       "id": "642f6513-4e1a-446f-b3b8-d1d1d00275a3"
      }
     }
    },
    "eec38978-93e2-4708-97af-d15bce7a20f2": {
     "id": "eec38978-93e2-4708-97af-d15bce7a20f2",
     "prev": "be7c2ab2-6056-40d4-be5b-4937b5545de0",
     "regions": {
      "95b9bcf8-fe48-4786-a12c-b86e3d61564b": {
       "attrs": {
        "height": 0.8,
        "width": 0.8,
        "x": 0.1,
        "y": 0.1
       },
       "content": {
        "cell": "10c6216b-4f2e-4b26-829d-f2bbac957738",
        "part": "whole"
       },
       "id": "95b9bcf8-fe48-4786-a12c-b86e3d61564b"
      }
     }
    },
    "efa06682-95b6-49a2-a6c0-c57d740d8e06": {
     "id": "efa06682-95b6-49a2-a6c0-c57d740d8e06",
     "prev": "e1075cde-fb14-472c-973a-a65ff3f46ecb",
     "regions": {
      "6376e95f-fd76-48c8-92a7-385a5bbd6ed5": {
       "attrs": {
        "height": 0.8,
        "width": 0.8,
        "x": 0.1,
        "y": 0.1
       },
       "content": {
        "cell": "b9cbdfa6-b6f9-4bb3-bb42-08a0cf80c813",
        "part": "whole"
       },
       "id": "6376e95f-fd76-48c8-92a7-385a5bbd6ed5"
      }
     }
    },
    "f1bdb37f-f94d-4bea-90f0-ad8d7b421797": {
     "id": "f1bdb37f-f94d-4bea-90f0-ad8d7b421797",
     "prev": "84434314-7c40-41f8-ba0c-f7f9427ada17",
     "regions": {
      "bb1b63ac-78dd-48ed-ae19-cc835c888235": {
       "attrs": {
        "height": 0.8,
        "width": 0.8,
        "x": 0.1,
        "y": 0.1
       },
       "content": {
        "cell": "18035ed3-1ad5-4493-ab88-7795b4cc8812",
        "part": "whole"
       },
       "id": "bb1b63ac-78dd-48ed-ae19-cc835c888235"
      }
     }
    },
    "f7249619-f013-48fb-a541-6fdbe2a0f98f": {
     "id": "f7249619-f013-48fb-a541-6fdbe2a0f98f",
     "prev": "12c358a7-e722-497e-9d27-2a13b17e2dfc",
     "regions": {
      "244101ee-6d70-4c1c-a6f9-ac97586c7413": {
       "attrs": {
        "height": 0.8,
        "width": 0.8,
        "x": 0.1,
        "y": 0.1
       },
       "content": {
        "cell": "3e647aea-da4d-4f78-b12d-34d1ecf0d69e",
        "part": "whole"
       },
       "id": "244101ee-6d70-4c1c-a6f9-ac97586c7413"
      }
     }
    },
    "fe270581-559b-491f-b1d0-be801c047e6b": {
     "id": "fe270581-559b-491f-b1d0-be801c047e6b",
     "prev": "d07ed659-fee2-4d90-a0a2-5185cd081a68",
     "regions": {
      "4ec93138-d8f6-455d-a83e-2ba4ea99ea22": {
       "attrs": {
        "height": 0.8,
        "width": 0.8,
        "x": 0.1,
        "y": 0.1
       },
       "content": {
        "cell": "8b425d30-526d-4569-9fd2-0daffe42d290",
        "part": "whole"
       },
       "id": "4ec93138-d8f6-455d-a83e-2ba4ea99ea22"
      }
     }
    }
   },
   "themes": {}
  }
 },
 "nbformat": 4,
 "nbformat_minor": 2
}
